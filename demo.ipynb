{
 "cells": [
  {
   "cell_type": "markdown",
   "metadata": {},
   "source": [
    "Welcome to our Jupyter Notebook Demo.\n",
    "The objective is to retrieve and treat data from your League of Legends games, and visualize them.\n",
    "\n",
    "First of all we import all functions and classes needed, as well as the API Key that will be used."
   ]
  },
  {
   "cell_type": "code",
   "execution_count": 23,
   "metadata": {},
   "outputs": [],
   "source": [
    "from Scripts.classes import RiotAPI, Summoner, Match\n",
    "from json import load, dump\n",
    "import Scripts.playerVisualization as pv\n",
    "import Scripts.gameVisualization as gv\n",
    "import pandas as pd\n",
    "\n",
    "with open('static/config.json') as f: config = load(f) \n",
    "key = config['Riot_api_key']"
   ]
  },
  {
   "cell_type": "markdown",
   "metadata": {},
   "source": [
    "We now define 2 new objects :\n",
    "- API that will easily allow to make requests to the Riot API \n",
    "- Player that will store data on a Summoner"
   ]
  },
  {
   "cell_type": "code",
   "execution_count": 24,
   "metadata": {},
   "outputs": [
    {
     "ename": "KeyError",
     "evalue": "'puuid'",
     "output_type": "error",
     "traceback": [
      "\u001b[1;31m---------------------------------------------------------------------------\u001b[0m",
      "\u001b[1;31mKeyError\u001b[0m                                  Traceback (most recent call last)",
      "\u001b[1;32mc:\\Users\\frohl\\OneDrive\\Documents\\Personnel\\Projets\\LOL Data Analysis\\demo.ipynb Cell 4\u001b[0m line \u001b[0;36m3\n\u001b[0;32m      <a href='vscode-notebook-cell:/c%3A/Users/frohl/OneDrive/Documents/Personnel/Projets/LOL%20Data%20Analysis/demo.ipynb#W3sZmlsZQ%3D%3D?line=0'>1</a>\u001b[0m API \u001b[39m=\u001b[39m RiotAPI(key)    \n\u001b[1;32m----> <a href='vscode-notebook-cell:/c%3A/Users/frohl/OneDrive/Documents/Personnel/Projets/LOL%20Data%20Analysis/demo.ipynb#W3sZmlsZQ%3D%3D?line=2'>3</a>\u001b[0m Player \u001b[39m=\u001b[39m Summoner(API, summoner_name\u001b[39m=\u001b[39;49m\u001b[39m\"\u001b[39;49m\u001b[39mTourtipouss\u001b[39;49m\u001b[39m\"\u001b[39;49m)\n",
      "File \u001b[1;32mc:\\Users\\frohl\\OneDrive\\Documents\\Personnel\\Projets\\LOL Data Analysis\\Scripts\\classes.py:57\u001b[0m, in \u001b[0;36mSummoner.__init__\u001b[1;34m(self, api, puuid, summoner_name)\u001b[0m\n\u001b[0;32m     55\u001b[0m     \u001b[39mself\u001b[39m\u001b[39m.\u001b[39mpuuid \u001b[39m=\u001b[39m puuid\n\u001b[0;32m     56\u001b[0m \u001b[39melif\u001b[39;00m (puuid\u001b[39m==\u001b[39m\u001b[39mNone\u001b[39;00m):\n\u001b[1;32m---> 57\u001b[0m     \u001b[39mself\u001b[39m\u001b[39m.\u001b[39mpuuid \u001b[39m=\u001b[39m \u001b[39mself\u001b[39;49m\u001b[39m.\u001b[39;49mapi\u001b[39m.\u001b[39;49mget_summoner_by_name(summoner_name)[\u001b[39m'\u001b[39;49m\u001b[39mpuuid\u001b[39;49m\u001b[39m'\u001b[39;49m]\n\u001b[0;32m     58\u001b[0m     \u001b[39mself\u001b[39m\u001b[39m.\u001b[39msummoner_name \u001b[39m=\u001b[39m summoner_name\n",
      "\u001b[1;31mKeyError\u001b[0m: 'puuid'"
     ]
    }
   ],
   "source": [
    "API = RiotAPI(key)    \n",
    "\n",
    "Player = Summoner(API, summoner_name=\"Tourtipouss\")"
   ]
  },
  {
   "cell_type": "markdown",
   "metadata": {},
   "source": [
    "We now retrieve the IDs of the last games the player Played and get each MatchUp statistics. Since we need to create a new Match object for each Game ID, this is the longest part of this code. \n",
    "\n",
    "You can adapt the number of games you want to get data from.\n",
    "\n",
    "Then we build a huge dictionnary representing your lane winrate for each of all your champions against all champions."
   ]
  },
  {
   "cell_type": "code",
   "execution_count": null,
   "metadata": {},
   "outputs": [
    {
     "name": "stderr",
     "output_type": "stream",
     "text": [
      "  0% |                                                                        |\r"
     ]
    },
    {
     "ename": "KeyError",
     "evalue": "'info'",
     "output_type": "error",
     "traceback": [
      "\u001b[1;31m---------------------------------------------------------------------------\u001b[0m",
      "\u001b[1;31mKeyError\u001b[0m                                  Traceback (most recent call last)",
      "\u001b[1;32mc:\\Users\\frohl\\OneDrive\\Documents\\Personnel\\Projets\\LOL Data Analysis\\demo.ipynb Cell 6\u001b[0m line \u001b[0;36m1\n\u001b[1;32m----> <a href='vscode-notebook-cell:/c%3A/Users/frohl/OneDrive/Documents/Personnel/Projets/LOL%20Data%20Analysis/demo.ipynb#W5sZmlsZQ%3D%3D?line=0'>1</a>\u001b[0m LastMU \u001b[39m=\u001b[39m pv\u001b[39m.\u001b[39;49mLastMatchUps(API,Player,count\u001b[39m=\u001b[39;49m\u001b[39m40\u001b[39;49m)\n\u001b[0;32m      <a href='vscode-notebook-cell:/c%3A/Users/frohl/OneDrive/Documents/Personnel/Projets/LOL%20Data%20Analysis/demo.ipynb#W5sZmlsZQ%3D%3D?line=2'>3</a>\u001b[0m MUWinrate \u001b[39m=\u001b[39m pv\u001b[39m.\u001b[39mMatchUpWinrate(LastMU)\n",
      "File \u001b[1;32mc:\\Users\\frohl\\OneDrive\\Documents\\Personnel\\Projets\\LOL Data Analysis\\Scripts\\playerVisualization.py:19\u001b[0m, in \u001b[0;36mLastMatchUps\u001b[1;34m(API, Player, count, roleAdverse)\u001b[0m\n\u001b[0;32m     17\u001b[0m Game \u001b[39m=\u001b[39m Match(API,match_id)\n\u001b[0;32m     18\u001b[0m MatchUp \u001b[39m=\u001b[39m {}\n\u001b[1;32m---> 19\u001b[0m playerPerformance \u001b[39m=\u001b[39m Game\u001b[39m.\u001b[39;49mget_player_performance(Player)\n\u001b[0;32m     20\u001b[0m MatchUp[\u001b[39m\"\u001b[39m\u001b[39mwin\u001b[39m\u001b[39m\"\u001b[39m] \u001b[39m=\u001b[39m playerPerformance[\u001b[39m\"\u001b[39m\u001b[39mwin\u001b[39m\u001b[39m\"\u001b[39m]\n\u001b[0;32m     21\u001b[0m \u001b[39mif\u001b[39;00m roleAdverse\u001b[39m==\u001b[39m\u001b[39m\"\u001b[39m\u001b[39mSAME\u001b[39m\u001b[39m\"\u001b[39m:role \u001b[39m=\u001b[39m playerPerformance[\u001b[39m\"\u001b[39m\u001b[39mteamPosition\u001b[39m\u001b[39m\"\u001b[39m]\n",
      "File \u001b[1;32mc:\\Users\\frohl\\OneDrive\\Documents\\Personnel\\Projets\\LOL Data Analysis\\Scripts\\classes.py:124\u001b[0m, in \u001b[0;36mMatch.get_player_performance\u001b[1;34m(self, player)\u001b[0m\n\u001b[0;32m    123\u001b[0m \u001b[39mdef\u001b[39;00m \u001b[39mget_player_performance\u001b[39m(\u001b[39mself\u001b[39m, player):\n\u001b[1;32m--> 124\u001b[0m     index \u001b[39m=\u001b[39m \u001b[39mnext\u001b[39m((index \u001b[39mfor\u001b[39;00m (index, d) \u001b[39min\u001b[39;00m \u001b[39menumerate\u001b[39m(\u001b[39mself\u001b[39;49m\u001b[39m.\u001b[39;49mmatch_data[\u001b[39m'\u001b[39;49m\u001b[39minfo\u001b[39;49m\u001b[39m'\u001b[39;49m][\u001b[39m'\u001b[39m\u001b[39mparticipants\u001b[39m\u001b[39m'\u001b[39m]) \u001b[39mif\u001b[39;00m d[\u001b[39m\"\u001b[39m\u001b[39msummonerName\u001b[39m\u001b[39m\"\u001b[39m] \u001b[39m==\u001b[39m player\u001b[39m.\u001b[39msummoner_name), \u001b[39mNone\u001b[39;00m)\n\u001b[0;32m    125\u001b[0m     \u001b[39mreturn\u001b[39;00m \u001b[39mself\u001b[39m\u001b[39m.\u001b[39mmatch_data[\u001b[39m'\u001b[39m\u001b[39minfo\u001b[39m\u001b[39m'\u001b[39m][\u001b[39m'\u001b[39m\u001b[39mparticipants\u001b[39m\u001b[39m'\u001b[39m][index]\n",
      "\u001b[1;31mKeyError\u001b[0m: 'info'"
     ]
    }
   ],
   "source": [
    "LastMU = pv.LastMatchUps(API,Player,count=40)\n",
    "\n",
    "MUWinrate = pv.MatchUpWinrate(LastMU)"
   ]
  },
  {
   "cell_type": "markdown",
   "metadata": {},
   "source": [
    "Let's vizualize what we just built. First, take a look at the last MatchUps you have played."
   ]
  },
  {
   "cell_type": "code",
   "execution_count": null,
   "metadata": {},
   "outputs": [
    {
     "data": {
      "text/html": [
       "<div>\n",
       "<style scoped>\n",
       "    .dataframe tbody tr th:only-of-type {\n",
       "        vertical-align: middle;\n",
       "    }\n",
       "\n",
       "    .dataframe tbody tr th {\n",
       "        vertical-align: top;\n",
       "    }\n",
       "\n",
       "    .dataframe thead th {\n",
       "        text-align: right;\n",
       "    }\n",
       "</style>\n",
       "<table border=\"1\" class=\"dataframe\">\n",
       "  <thead>\n",
       "    <tr style=\"text-align: right;\">\n",
       "      <th></th>\n",
       "      <th>win</th>\n",
       "      <th>p1</th>\n",
       "      <th>p2</th>\n",
       "    </tr>\n",
       "  </thead>\n",
       "  <tbody>\n",
       "    <tr>\n",
       "      <th>0</th>\n",
       "      <td>True</td>\n",
       "      <td>{'summoner': 'Tourtipouss', 'champion': 'Xayah...</td>\n",
       "      <td>{'summoner': 'noya74', 'champion': 'Kaisa', 'k...</td>\n",
       "    </tr>\n",
       "    <tr>\n",
       "      <th>1</th>\n",
       "      <td>True</td>\n",
       "      <td>{'summoner': 'Tourtipouss', 'champion': 'KogMa...</td>\n",
       "      <td>{'summoner': '25Tobi123', 'champion': 'Kaisa',...</td>\n",
       "    </tr>\n",
       "  </tbody>\n",
       "</table>\n",
       "</div>"
      ],
      "text/plain": [
       "    win                                                 p1  \\\n",
       "0  True  {'summoner': 'Tourtipouss', 'champion': 'Xayah...   \n",
       "1  True  {'summoner': 'Tourtipouss', 'champion': 'KogMa...   \n",
       "\n",
       "                                                  p2  \n",
       "0  {'summoner': 'noya74', 'champion': 'Kaisa', 'k...  \n",
       "1  {'summoner': '25Tobi123', 'champion': 'Kaisa',...  "
      ]
     },
     "execution_count": 17,
     "metadata": {},
     "output_type": "execute_result"
    }
   ],
   "source": [
    "LastMU_df = pd.DataFrame(LastMU)\n",
    "\n",
    "LastMU_df.head(2)"
   ]
  },
  {
   "cell_type": "markdown",
   "metadata": {},
   "source": [
    "From these last games, we then built a matrix regrouping all wins, losses and winrate when it exists."
   ]
  },
  {
   "cell_type": "code",
   "execution_count": null,
   "metadata": {},
   "outputs": [],
   "source": [
    "MUWinrate_df = pd.DataFrame(MUWinrate)\n",
    "\n",
    "MUWinrate_df.head(2)"
   ]
  },
  {
   "cell_type": "markdown",
   "metadata": {},
   "source": [
    "Now what's really interesting for a Player is knowing which champion to pick against a certain champion in order to win that matchup. Here's a function doing just that :"
   ]
  },
  {
   "cell_type": "code",
   "execution_count": null,
   "metadata": {},
   "outputs": [],
   "source": [
    "Opponent = \"Kaisa\"\n",
    "\n",
    "BestMU = pv.BestMatchUps(MUWinrate,Opponent)"
   ]
  },
  {
   "cell_type": "markdown",
   "metadata": {},
   "source": [
    "Let's display what we just computed :"
   ]
  },
  {
   "cell_type": "code",
   "execution_count": null,
   "metadata": {},
   "outputs": [],
   "source": [
    "BestMU_df = pd.DataFrame(BestMU)\n",
    "\n",
    "BestMU_df.head(5)"
   ]
  }
 ],
 "metadata": {
  "kernelspec": {
   "display_name": "env",
   "language": "python",
   "name": "python3"
  },
  "language_info": {
   "codemirror_mode": {
    "name": "ipython",
    "version": 3
   },
   "file_extension": ".py",
   "mimetype": "text/x-python",
   "name": "python",
   "nbconvert_exporter": "python",
   "pygments_lexer": "ipython3",
   "version": "3.11.2"
  }
 },
 "nbformat": 4,
 "nbformat_minor": 2
}
