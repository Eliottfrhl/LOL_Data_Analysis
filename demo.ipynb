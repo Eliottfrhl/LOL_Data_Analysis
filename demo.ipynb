{
 "cells": [
  {
   "cell_type": "markdown",
   "metadata": {},
   "source": [
    "Welcome to our Jupyter Notebook Demo.\n",
    "The objective is to retrieve and treat data from your League of Legends games, and visualize them.\n",
    "\n",
    "First of all we import all functions and classes needed, as well as the API Key that will be used."
   ]
  },
  {
   "cell_type": "code",
   "execution_count": 1,
   "metadata": {},
   "outputs": [],
   "source": [
    "from Scripts.classes import RiotAPI, Summoner, Match\n",
    "from json import load, dump\n",
    "import Scripts.playerVisualization as pv\n",
    "import Scripts.gameVisualization as gv\n",
    "import pandas as pd\n",
    "\n",
    "with open('static/config.json') as f: config = load(f) \n",
    "key = config['Riot_api_key']"
   ]
  },
  {
   "cell_type": "markdown",
   "metadata": {},
   "source": [
    "We now define 2 new objects :\n",
    "- API that will easily allow to make requests to the Riot API \n",
    "- Player that will store data on a Summoner"
   ]
  },
  {
   "cell_type": "code",
   "execution_count": 2,
   "metadata": {},
   "outputs": [],
   "source": [
    "API = RiotAPI(key)    \n",
    "\n",
    "Player = Summoner(API, summoner_name=\"Tourtipouss\")   "
   ]
  },
  {
   "cell_type": "markdown",
   "metadata": {},
   "source": [
    "We now retrieve the IDs of the last games the player Played and get each MatchUp statistics. Since we need to create a new Match object for each Game ID, this is the longest part of this code. \n",
    "\n",
    "You can adapt the number of games you want to get data from.\n",
    "\n",
    "Then we build a huge dictionnary representing your lane winrate for each of all your champions against all champions."
   ]
  },
  {
   "cell_type": "code",
   "execution_count": 3,
   "metadata": {},
   "outputs": [
    {
     "name": "stderr",
     "output_type": "stream",
     "text": [
      " 24% |#################                                                       |\r"
     ]
    },
    {
     "name": "stdout",
     "output_type": "stream",
     "text": [
      "Too many requests for now, trying again in 2min.\n"
     ]
    },
    {
     "name": "stderr",
     "output_type": "stream",
     "text": [
      " 49% |###################################                                     |\r"
     ]
    },
    {
     "name": "stdout",
     "output_type": "stream",
     "text": [
      "Too many requests for now, trying again in 2min.\n"
     ]
    },
    {
     "name": "stderr",
     "output_type": "stream",
     "text": [
      " 74% |#####################################################                   |\r"
     ]
    },
    {
     "name": "stdout",
     "output_type": "stream",
     "text": [
      "Too many requests for now, trying again in 2min.\n"
     ]
    },
    {
     "name": "stderr",
     "output_type": "stream",
     "text": [
      " 99% |####################################################################### |\r"
     ]
    },
    {
     "name": "stdout",
     "output_type": "stream",
     "text": [
      "Too many requests for now, trying again in 2min.\n"
     ]
    }
   ],
   "source": [
    "numberOfGames = 2000\n",
    "\n",
    "LastMU = pv.LastMatchUps(API,Player,count=numberOfGames)\n",
    "\n",
    "MUWinrate = pv.MatchUpWinrate(LastMU)"
   ]
  },
  {
   "cell_type": "markdown",
   "metadata": {},
   "source": [
    "Let's vizualize what we just built. First, take a look at the last MatchUps you have played."
   ]
  },
  {
   "cell_type": "code",
   "execution_count": 4,
   "metadata": {},
   "outputs": [
    {
     "data": {
      "text/html": [
       "<div>\n",
       "<style scoped>\n",
       "    .dataframe tbody tr th:only-of-type {\n",
       "        vertical-align: middle;\n",
       "    }\n",
       "\n",
       "    .dataframe tbody tr th {\n",
       "        vertical-align: top;\n",
       "    }\n",
       "\n",
       "    .dataframe thead th {\n",
       "        text-align: right;\n",
       "    }\n",
       "</style>\n",
       "<table border=\"1\" class=\"dataframe\">\n",
       "  <thead>\n",
       "    <tr style=\"text-align: right;\">\n",
       "      <th></th>\n",
       "      <th>win</th>\n",
       "      <th>p1</th>\n",
       "      <th>p2</th>\n",
       "    </tr>\n",
       "  </thead>\n",
       "  <tbody>\n",
       "    <tr>\n",
       "      <th>0</th>\n",
       "      <td>True</td>\n",
       "      <td>{'summoner': 'Tourtipouss', 'champion': 'Xayah...</td>\n",
       "      <td>{'summoner': 'noya74', 'champion': 'Kaisa', 'k...</td>\n",
       "    </tr>\n",
       "    <tr>\n",
       "      <th>1</th>\n",
       "      <td>True</td>\n",
       "      <td>{'summoner': 'Tourtipouss', 'champion': 'KogMa...</td>\n",
       "      <td>{'summoner': '25Tobi123', 'champion': 'Kaisa',...</td>\n",
       "    </tr>\n",
       "  </tbody>\n",
       "</table>\n",
       "</div>"
      ],
      "text/plain": [
       "    win                                                 p1  \\\n",
       "0  True  {'summoner': 'Tourtipouss', 'champion': 'Xayah...   \n",
       "1  True  {'summoner': 'Tourtipouss', 'champion': 'KogMa...   \n",
       "\n",
       "                                                  p2  \n",
       "0  {'summoner': 'noya74', 'champion': 'Kaisa', 'k...  \n",
       "1  {'summoner': '25Tobi123', 'champion': 'Kaisa',...  "
      ]
     },
     "execution_count": 4,
     "metadata": {},
     "output_type": "execute_result"
    }
   ],
   "source": [
    "LastMU_df = pd.DataFrame(LastMU)\n",
    "\n",
    "LastMU_df.head(2)"
   ]
  },
  {
   "cell_type": "markdown",
   "metadata": {},
   "source": [
    "From these last games, we then built a matrix regrouping all wins, losses and winrate when it exists."
   ]
  },
  {
   "cell_type": "code",
   "execution_count": 5,
   "metadata": {},
   "outputs": [
    {
     "data": {
      "text/html": [
       "<div>\n",
       "<style scoped>\n",
       "    .dataframe tbody tr th:only-of-type {\n",
       "        vertical-align: middle;\n",
       "    }\n",
       "\n",
       "    .dataframe tbody tr th {\n",
       "        vertical-align: top;\n",
       "    }\n",
       "\n",
       "    .dataframe thead th {\n",
       "        text-align: right;\n",
       "    }\n",
       "</style>\n",
       "<table border=\"1\" class=\"dataframe\">\n",
       "  <thead>\n",
       "    <tr style=\"text-align: right;\">\n",
       "      <th></th>\n",
       "      <th>aatrox</th>\n",
       "      <th>ahri</th>\n",
       "      <th>akali</th>\n",
       "      <th>akshan</th>\n",
       "      <th>alistar</th>\n",
       "      <th>amumu</th>\n",
       "      <th>anivia</th>\n",
       "      <th>annie</th>\n",
       "      <th>aphelios</th>\n",
       "      <th>ashe</th>\n",
       "      <th>...</th>\n",
       "      <th>yone</th>\n",
       "      <th>yorick</th>\n",
       "      <th>yuumi</th>\n",
       "      <th>zac</th>\n",
       "      <th>zed</th>\n",
       "      <th>zeri</th>\n",
       "      <th>ziggs</th>\n",
       "      <th>zilean</th>\n",
       "      <th>zoe</th>\n",
       "      <th>zyra</th>\n",
       "    </tr>\n",
       "  </thead>\n",
       "  <tbody>\n",
       "    <tr>\n",
       "      <th>aatrox</th>\n",
       "      <td>{'win_count': 0, 'loss_count': 0}</td>\n",
       "      <td>{'win_count': 0, 'loss_count': 0}</td>\n",
       "      <td>{'win_count': 0, 'loss_count': 0}</td>\n",
       "      <td>{'win_count': 0, 'loss_count': 0}</td>\n",
       "      <td>{'win_count': 0, 'loss_count': 0}</td>\n",
       "      <td>{'win_count': 0, 'loss_count': 0}</td>\n",
       "      <td>{'win_count': 0, 'loss_count': 0}</td>\n",
       "      <td>{'win_count': 0, 'loss_count': 0}</td>\n",
       "      <td>{'win_count': 0, 'loss_count': 0}</td>\n",
       "      <td>{'win_count': 0, 'loss_count': 0}</td>\n",
       "      <td>...</td>\n",
       "      <td>{'win_count': 0, 'loss_count': 0}</td>\n",
       "      <td>{'win_count': 0, 'loss_count': 0}</td>\n",
       "      <td>{'win_count': 0, 'loss_count': 0}</td>\n",
       "      <td>{'win_count': 0, 'loss_count': 0}</td>\n",
       "      <td>{'win_count': 0, 'loss_count': 0}</td>\n",
       "      <td>{'win_count': 0, 'loss_count': 0}</td>\n",
       "      <td>{'win_count': 0, 'loss_count': 0}</td>\n",
       "      <td>{'win_count': 0, 'loss_count': 0}</td>\n",
       "      <td>{'win_count': 0, 'loss_count': 0}</td>\n",
       "      <td>{'win_count': 0, 'loss_count': 0}</td>\n",
       "    </tr>\n",
       "    <tr>\n",
       "      <th>ahri</th>\n",
       "      <td>{'win_count': 0, 'loss_count': 0}</td>\n",
       "      <td>{'win_count': 0, 'loss_count': 0}</td>\n",
       "      <td>{'win_count': 0, 'loss_count': 0}</td>\n",
       "      <td>{'win_count': 0, 'loss_count': 0}</td>\n",
       "      <td>{'win_count': 0, 'loss_count': 0}</td>\n",
       "      <td>{'win_count': 0, 'loss_count': 0}</td>\n",
       "      <td>{'win_count': 0, 'loss_count': 0}</td>\n",
       "      <td>{'win_count': 0, 'loss_count': 0}</td>\n",
       "      <td>{'win_count': 0, 'loss_count': 0}</td>\n",
       "      <td>{'win_count': 0, 'loss_count': 0}</td>\n",
       "      <td>...</td>\n",
       "      <td>{'win_count': 0, 'loss_count': 0}</td>\n",
       "      <td>{'win_count': 0, 'loss_count': 0}</td>\n",
       "      <td>{'win_count': 0, 'loss_count': 0}</td>\n",
       "      <td>{'win_count': 0, 'loss_count': 0}</td>\n",
       "      <td>{'win_count': 0, 'loss_count': 0}</td>\n",
       "      <td>{'win_count': 0, 'loss_count': 0}</td>\n",
       "      <td>{'win_count': 0, 'loss_count': 0}</td>\n",
       "      <td>{'win_count': 0, 'loss_count': 0}</td>\n",
       "      <td>{'win_count': 0, 'loss_count': 0}</td>\n",
       "      <td>{'win_count': 0, 'loss_count': 0}</td>\n",
       "    </tr>\n",
       "  </tbody>\n",
       "</table>\n",
       "<p>2 rows × 165 columns</p>\n",
       "</div>"
      ],
      "text/plain": [
       "                                   aatrox                               ahri  \\\n",
       "aatrox  {'win_count': 0, 'loss_count': 0}  {'win_count': 0, 'loss_count': 0}   \n",
       "ahri    {'win_count': 0, 'loss_count': 0}  {'win_count': 0, 'loss_count': 0}   \n",
       "\n",
       "                                    akali                             akshan  \\\n",
       "aatrox  {'win_count': 0, 'loss_count': 0}  {'win_count': 0, 'loss_count': 0}   \n",
       "ahri    {'win_count': 0, 'loss_count': 0}  {'win_count': 0, 'loss_count': 0}   \n",
       "\n",
       "                                  alistar                              amumu  \\\n",
       "aatrox  {'win_count': 0, 'loss_count': 0}  {'win_count': 0, 'loss_count': 0}   \n",
       "ahri    {'win_count': 0, 'loss_count': 0}  {'win_count': 0, 'loss_count': 0}   \n",
       "\n",
       "                                   anivia                              annie  \\\n",
       "aatrox  {'win_count': 0, 'loss_count': 0}  {'win_count': 0, 'loss_count': 0}   \n",
       "ahri    {'win_count': 0, 'loss_count': 0}  {'win_count': 0, 'loss_count': 0}   \n",
       "\n",
       "                                 aphelios                               ashe  \\\n",
       "aatrox  {'win_count': 0, 'loss_count': 0}  {'win_count': 0, 'loss_count': 0}   \n",
       "ahri    {'win_count': 0, 'loss_count': 0}  {'win_count': 0, 'loss_count': 0}   \n",
       "\n",
       "        ...                               yone  \\\n",
       "aatrox  ...  {'win_count': 0, 'loss_count': 0}   \n",
       "ahri    ...  {'win_count': 0, 'loss_count': 0}   \n",
       "\n",
       "                                   yorick                              yuumi  \\\n",
       "aatrox  {'win_count': 0, 'loss_count': 0}  {'win_count': 0, 'loss_count': 0}   \n",
       "ahri    {'win_count': 0, 'loss_count': 0}  {'win_count': 0, 'loss_count': 0}   \n",
       "\n",
       "                                      zac                                zed  \\\n",
       "aatrox  {'win_count': 0, 'loss_count': 0}  {'win_count': 0, 'loss_count': 0}   \n",
       "ahri    {'win_count': 0, 'loss_count': 0}  {'win_count': 0, 'loss_count': 0}   \n",
       "\n",
       "                                     zeri                              ziggs  \\\n",
       "aatrox  {'win_count': 0, 'loss_count': 0}  {'win_count': 0, 'loss_count': 0}   \n",
       "ahri    {'win_count': 0, 'loss_count': 0}  {'win_count': 0, 'loss_count': 0}   \n",
       "\n",
       "                                   zilean                                zoe  \\\n",
       "aatrox  {'win_count': 0, 'loss_count': 0}  {'win_count': 0, 'loss_count': 0}   \n",
       "ahri    {'win_count': 0, 'loss_count': 0}  {'win_count': 0, 'loss_count': 0}   \n",
       "\n",
       "                                     zyra  \n",
       "aatrox  {'win_count': 0, 'loss_count': 0}  \n",
       "ahri    {'win_count': 0, 'loss_count': 0}  \n",
       "\n",
       "[2 rows x 165 columns]"
      ]
     },
     "execution_count": 5,
     "metadata": {},
     "output_type": "execute_result"
    }
   ],
   "source": [
    "MUWinrate_df = pd.DataFrame(MUWinrate)\n",
    "\n",
    "MUWinrate_df.head(2)"
   ]
  },
  {
   "cell_type": "markdown",
   "metadata": {},
   "source": [
    "Now what's really interesting for a Player is knowing which champion to pick against a certain champion in order to win that matchup. Here's a function doing just that :"
   ]
  },
  {
   "cell_type": "code",
   "execution_count": 7,
   "metadata": {},
   "outputs": [],
   "source": [
    "Opponent = \"kaisa\"\n",
    "\n",
    "BestMU = pv.BestMatchUps(MUWinrate,Opponent)"
   ]
  },
  {
   "cell_type": "markdown",
   "metadata": {},
   "source": [
    "Let's display what we just computed :"
   ]
  },
  {
   "cell_type": "code",
   "execution_count": 8,
   "metadata": {},
   "outputs": [
    {
     "data": {
      "text/html": [
       "<div>\n",
       "<style scoped>\n",
       "    .dataframe tbody tr th:only-of-type {\n",
       "        vertical-align: middle;\n",
       "    }\n",
       "\n",
       "    .dataframe tbody tr th {\n",
       "        vertical-align: top;\n",
       "    }\n",
       "\n",
       "    .dataframe thead th {\n",
       "        text-align: right;\n",
       "    }\n",
       "</style>\n",
       "<table border=\"1\" class=\"dataframe\">\n",
       "  <thead>\n",
       "    <tr style=\"text-align: right;\">\n",
       "      <th></th>\n",
       "      <th>championName</th>\n",
       "      <th>winrate</th>\n",
       "      <th>numberOfGames</th>\n",
       "    </tr>\n",
       "  </thead>\n",
       "  <tbody>\n",
       "    <tr>\n",
       "      <th>0</th>\n",
       "      <td>ashe</td>\n",
       "      <td>1.000000</td>\n",
       "      <td>1</td>\n",
       "    </tr>\n",
       "    <tr>\n",
       "      <th>1</th>\n",
       "      <td>mordekaiser</td>\n",
       "      <td>1.000000</td>\n",
       "      <td>1</td>\n",
       "    </tr>\n",
       "    <tr>\n",
       "      <th>2</th>\n",
       "      <td>xayah</td>\n",
       "      <td>0.666667</td>\n",
       "      <td>6</td>\n",
       "    </tr>\n",
       "    <tr>\n",
       "      <th>3</th>\n",
       "      <td>kogmaw</td>\n",
       "      <td>0.500000</td>\n",
       "      <td>2</td>\n",
       "    </tr>\n",
       "  </tbody>\n",
       "</table>\n",
       "</div>"
      ],
      "text/plain": [
       "  championName   winrate  numberOfGames\n",
       "0         ashe  1.000000              1\n",
       "1  mordekaiser  1.000000              1\n",
       "2        xayah  0.666667              6\n",
       "3       kogmaw  0.500000              2"
      ]
     },
     "execution_count": 8,
     "metadata": {},
     "output_type": "execute_result"
    }
   ],
   "source": [
    "BestMU_df = pd.DataFrame(BestMU)\n",
    "\n",
    "BestMU_df.head(5)"
   ]
  },
  {
   "cell_type": "markdown",
   "metadata": {},
   "source": [
    "Now we'll store all this data in a document so we don't have to get them every time we come back."
   ]
  },
  {
   "cell_type": "code",
   "execution_count": 11,
   "metadata": {},
   "outputs": [],
   "source": [
    "with open(\"data/\"+Player.summoner_name+\"/MatchUps.json\",\"w\",encoding=\"utf-8\") as f:\n",
    "    dump(MUWinrate,f)"
   ]
  }
 ],
 "metadata": {
  "kernelspec": {
   "display_name": "env",
   "language": "python",
   "name": "python3"
  },
  "language_info": {
   "codemirror_mode": {
    "name": "ipython",
    "version": 3
   },
   "file_extension": ".py",
   "mimetype": "text/x-python",
   "name": "python",
   "nbconvert_exporter": "python",
   "pygments_lexer": "ipython3",
   "version": "3.11.2"
  }
 },
 "nbformat": 4,
 "nbformat_minor": 2
}
