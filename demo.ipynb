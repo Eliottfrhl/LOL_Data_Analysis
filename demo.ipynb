{
 "cells": [
  {
   "cell_type": "markdown",
   "metadata": {},
   "source": [
    "Welcome to our Jupyter Notebook Demo.\n",
    "The objective is to retrieve and treat data from your League of Legends games, and visualize them.\n",
    "\n",
    "First of all we import all functions and classes needed, as well as the API Key that will be used."
   ]
  },
  {
   "cell_type": "code",
   "execution_count": 40,
   "metadata": {},
   "outputs": [],
   "source": [
    "from Scripts.classes import RiotAPI, Summoner, Match\n",
    "from json import load, dump\n",
    "import Scripts.playerVisualization as pv\n",
    "import Scripts.gameVisualization as gv\n",
    "import pandas as pd\n",
    "\n",
    "with open('static/config.json') as f: config = load(f) \n",
    "key = config['Riot_api_key']"
   ]
  },
  {
   "cell_type": "markdown",
   "metadata": {},
   "source": [
    "We now define 2 new objects :\n",
    "- API that will easily allow to make requests to the Riot API \n",
    "- Player that will store data on a Summoner"
   ]
  },
  {
   "cell_type": "code",
   "execution_count": 41,
   "metadata": {},
   "outputs": [],
   "source": [
    "API = RiotAPI(key)    \n",
    "\n",
    "Player = Summoner(API, summoner_name=\"Tourtipouss\")"
   ]
  },
  {
   "cell_type": "markdown",
   "metadata": {},
   "source": [
    "We now retrieve the IDs of the last games the player Played and get each MatchUp statistics. Since we need to create a new Match object for each Game ID, this is the longest part of this code. \n",
    "\n",
    "You can adapt the number of games you want to get data from.\n",
    "\n",
    "Then we build a huge dictionnary representing your lane winrate for each of all your champions against all champions."
   ]
  },
  {
   "cell_type": "code",
   "execution_count": 42,
   "metadata": {},
   "outputs": [
    {
     "name": "stderr",
     "output_type": "stream",
     "text": [
      " 24% |#################                                                       |\r"
     ]
    },
    {
     "ename": "KeyError",
     "evalue": "'info'",
     "output_type": "error",
     "traceback": [
      "\u001b[1;31m---------------------------------------------------------------------------\u001b[0m",
      "\u001b[1;31mKeyError\u001b[0m                                  Traceback (most recent call last)",
      "\u001b[1;32mc:\\Users\\frohl\\OneDrive\\Documents\\Personnel\\Projets\\LOL Data Analysis\\demo.ipynb Cell 6\u001b[0m line \u001b[0;36m1\n\u001b[1;32m----> <a href='vscode-notebook-cell:/c%3A/Users/frohl/OneDrive/Documents/Personnel/Projets/LOL%20Data%20Analysis/demo.ipynb#W5sZmlsZQ%3D%3D?line=0'>1</a>\u001b[0m LastMU \u001b[39m=\u001b[39m pv\u001b[39m.\u001b[39;49mLastMatchUps(API,Player,count\u001b[39m=\u001b[39;49m\u001b[39m200\u001b[39;49m)\n\u001b[0;32m      <a href='vscode-notebook-cell:/c%3A/Users/frohl/OneDrive/Documents/Personnel/Projets/LOL%20Data%20Analysis/demo.ipynb#W5sZmlsZQ%3D%3D?line=2'>3</a>\u001b[0m MUWinrate \u001b[39m=\u001b[39m pv\u001b[39m.\u001b[39mMatchUpWinrate(LastMU)\n",
      "File \u001b[1;32mc:\\Users\\frohl\\OneDrive\\Documents\\Personnel\\Projets\\LOL Data Analysis\\Scripts\\playerVisualization.py:19\u001b[0m, in \u001b[0;36mLastMatchUps\u001b[1;34m(API, Player, count, roleAdverse)\u001b[0m\n\u001b[0;32m     17\u001b[0m Game \u001b[39m=\u001b[39m Match(API,match_id)\n\u001b[0;32m     18\u001b[0m MatchUp \u001b[39m=\u001b[39m {}\n\u001b[1;32m---> 19\u001b[0m playerPerformance \u001b[39m=\u001b[39m Game\u001b[39m.\u001b[39;49mget_player_performance(Player)\n\u001b[0;32m     20\u001b[0m MatchUp[\u001b[39m\"\u001b[39m\u001b[39mwin\u001b[39m\u001b[39m\"\u001b[39m] \u001b[39m=\u001b[39m playerPerformance[\u001b[39m\"\u001b[39m\u001b[39mwin\u001b[39m\u001b[39m\"\u001b[39m]\n\u001b[0;32m     21\u001b[0m \u001b[39mif\u001b[39;00m roleAdverse\u001b[39m==\u001b[39m\u001b[39m\"\u001b[39m\u001b[39mSAME\u001b[39m\u001b[39m\"\u001b[39m:role \u001b[39m=\u001b[39m playerPerformance[\u001b[39m\"\u001b[39m\u001b[39mteamPosition\u001b[39m\u001b[39m\"\u001b[39m]\n",
      "File \u001b[1;32mc:\\Users\\frohl\\OneDrive\\Documents\\Personnel\\Projets\\LOL Data Analysis\\Scripts\\classes.py:124\u001b[0m, in \u001b[0;36mMatch.get_player_performance\u001b[1;34m(self, player)\u001b[0m\n\u001b[0;32m    123\u001b[0m \u001b[39mdef\u001b[39;00m \u001b[39mget_player_performance\u001b[39m(\u001b[39mself\u001b[39m, player):\n\u001b[1;32m--> 124\u001b[0m     index \u001b[39m=\u001b[39m \u001b[39mnext\u001b[39m((index \u001b[39mfor\u001b[39;00m (index, d) \u001b[39min\u001b[39;00m \u001b[39menumerate\u001b[39m(\u001b[39mself\u001b[39;49m\u001b[39m.\u001b[39;49mmatch_data[\u001b[39m'\u001b[39;49m\u001b[39minfo\u001b[39;49m\u001b[39m'\u001b[39;49m][\u001b[39m'\u001b[39m\u001b[39mparticipants\u001b[39m\u001b[39m'\u001b[39m]) \u001b[39mif\u001b[39;00m d[\u001b[39m\"\u001b[39m\u001b[39msummonerName\u001b[39m\u001b[39m\"\u001b[39m] \u001b[39m==\u001b[39m player\u001b[39m.\u001b[39msummoner_name), \u001b[39mNone\u001b[39;00m)\n\u001b[0;32m    125\u001b[0m     \u001b[39mreturn\u001b[39;00m \u001b[39mself\u001b[39m\u001b[39m.\u001b[39mmatch_data[\u001b[39m'\u001b[39m\u001b[39minfo\u001b[39m\u001b[39m'\u001b[39m][\u001b[39m'\u001b[39m\u001b[39mparticipants\u001b[39m\u001b[39m'\u001b[39m][index]\n",
      "\u001b[1;31mKeyError\u001b[0m: 'info'"
     ]
    }
   ],
   "source": [
    "LastMU = pv.LastMatchUps(API,Player,count=200)\n",
    "\n",
    "MUWinrate = pv.MatchUpWinrate(LastMU)"
   ]
  },
  {
   "cell_type": "markdown",
   "metadata": {},
   "source": [
    "Let's vizualize what we just built. First, take a look at the last MatchUps you have played."
   ]
  },
  {
   "cell_type": "code",
   "execution_count": 32,
   "metadata": {},
   "outputs": [
    {
     "data": {
      "text/html": [
       "<div>\n",
       "<style scoped>\n",
       "    .dataframe tbody tr th:only-of-type {\n",
       "        vertical-align: middle;\n",
       "    }\n",
       "\n",
       "    .dataframe tbody tr th {\n",
       "        vertical-align: top;\n",
       "    }\n",
       "\n",
       "    .dataframe thead th {\n",
       "        text-align: right;\n",
       "    }\n",
       "</style>\n",
       "<table border=\"1\" class=\"dataframe\">\n",
       "  <thead>\n",
       "    <tr style=\"text-align: right;\">\n",
       "      <th></th>\n",
       "      <th>win</th>\n",
       "      <th>p1</th>\n",
       "      <th>p2</th>\n",
       "    </tr>\n",
       "  </thead>\n",
       "  <tbody>\n",
       "    <tr>\n",
       "      <th>0</th>\n",
       "      <td>True</td>\n",
       "      <td>{'summoner': 'Tourtipouss', 'champion': 'Xayah...</td>\n",
       "      <td>{'summoner': 'noya74', 'champion': 'Kaisa', 'k...</td>\n",
       "    </tr>\n",
       "    <tr>\n",
       "      <th>1</th>\n",
       "      <td>True</td>\n",
       "      <td>{'summoner': 'Tourtipouss', 'champion': 'KogMa...</td>\n",
       "      <td>{'summoner': '25Tobi123', 'champion': 'Kaisa',...</td>\n",
       "    </tr>\n",
       "  </tbody>\n",
       "</table>\n",
       "</div>"
      ],
      "text/plain": [
       "    win                                                 p1  \\\n",
       "0  True  {'summoner': 'Tourtipouss', 'champion': 'Xayah...   \n",
       "1  True  {'summoner': 'Tourtipouss', 'champion': 'KogMa...   \n",
       "\n",
       "                                                  p2  \n",
       "0  {'summoner': 'noya74', 'champion': 'Kaisa', 'k...  \n",
       "1  {'summoner': '25Tobi123', 'champion': 'Kaisa',...  "
      ]
     },
     "execution_count": 32,
     "metadata": {},
     "output_type": "execute_result"
    }
   ],
   "source": [
    "LastMU_df = pd.DataFrame(LastMU)\n",
    "\n",
    "LastMU_df.head(2)"
   ]
  },
  {
   "cell_type": "markdown",
   "metadata": {},
   "source": [
    "From these last games, we then built a matrix regrouping all wins, losses and winrate when it exists."
   ]
  },
  {
   "cell_type": "code",
   "execution_count": 33,
   "metadata": {},
   "outputs": [
    {
     "data": {
      "text/html": [
       "<div>\n",
       "<style scoped>\n",
       "    .dataframe tbody tr th:only-of-type {\n",
       "        vertical-align: middle;\n",
       "    }\n",
       "\n",
       "    .dataframe tbody tr th {\n",
       "        vertical-align: top;\n",
       "    }\n",
       "\n",
       "    .dataframe thead th {\n",
       "        text-align: right;\n",
       "    }\n",
       "</style>\n",
       "<table border=\"1\" class=\"dataframe\">\n",
       "  <thead>\n",
       "    <tr style=\"text-align: right;\">\n",
       "      <th></th>\n",
       "      <th>Aatrox</th>\n",
       "      <th>Ahri</th>\n",
       "      <th>Akali</th>\n",
       "      <th>Akshan</th>\n",
       "      <th>Alistar</th>\n",
       "      <th>Amumu</th>\n",
       "      <th>Anivia</th>\n",
       "      <th>Annie</th>\n",
       "      <th>Aphelios</th>\n",
       "      <th>Ashe</th>\n",
       "      <th>...</th>\n",
       "      <th>Yone</th>\n",
       "      <th>Yorick</th>\n",
       "      <th>Yuumi</th>\n",
       "      <th>Zac</th>\n",
       "      <th>Zed</th>\n",
       "      <th>Zeri</th>\n",
       "      <th>Ziggs</th>\n",
       "      <th>Zilean</th>\n",
       "      <th>Zoe</th>\n",
       "      <th>Zyra</th>\n",
       "    </tr>\n",
       "  </thead>\n",
       "  <tbody>\n",
       "    <tr>\n",
       "      <th>Aatrox</th>\n",
       "      <td>{'win_count': 0, 'loss_count': 0}</td>\n",
       "      <td>{'win_count': 0, 'loss_count': 0}</td>\n",
       "      <td>{'win_count': 0, 'loss_count': 0}</td>\n",
       "      <td>{'win_count': 0, 'loss_count': 0}</td>\n",
       "      <td>{'win_count': 0, 'loss_count': 0}</td>\n",
       "      <td>{'win_count': 0, 'loss_count': 0}</td>\n",
       "      <td>{'win_count': 0, 'loss_count': 0}</td>\n",
       "      <td>{'win_count': 0, 'loss_count': 0}</td>\n",
       "      <td>{'win_count': 0, 'loss_count': 0}</td>\n",
       "      <td>{'win_count': 0, 'loss_count': 0}</td>\n",
       "      <td>...</td>\n",
       "      <td>{'win_count': 0, 'loss_count': 0}</td>\n",
       "      <td>{'win_count': 0, 'loss_count': 0}</td>\n",
       "      <td>{'win_count': 0, 'loss_count': 0}</td>\n",
       "      <td>{'win_count': 0, 'loss_count': 0}</td>\n",
       "      <td>{'win_count': 0, 'loss_count': 0}</td>\n",
       "      <td>{'win_count': 0, 'loss_count': 0}</td>\n",
       "      <td>{'win_count': 0, 'loss_count': 0}</td>\n",
       "      <td>{'win_count': 0, 'loss_count': 0}</td>\n",
       "      <td>{'win_count': 0, 'loss_count': 0}</td>\n",
       "      <td>{'win_count': 0, 'loss_count': 0}</td>\n",
       "    </tr>\n",
       "    <tr>\n",
       "      <th>Ahri</th>\n",
       "      <td>{'win_count': 0, 'loss_count': 0}</td>\n",
       "      <td>{'win_count': 0, 'loss_count': 0}</td>\n",
       "      <td>{'win_count': 0, 'loss_count': 0}</td>\n",
       "      <td>{'win_count': 0, 'loss_count': 0}</td>\n",
       "      <td>{'win_count': 0, 'loss_count': 0}</td>\n",
       "      <td>{'win_count': 0, 'loss_count': 0}</td>\n",
       "      <td>{'win_count': 0, 'loss_count': 0}</td>\n",
       "      <td>{'win_count': 0, 'loss_count': 0}</td>\n",
       "      <td>{'win_count': 0, 'loss_count': 0}</td>\n",
       "      <td>{'win_count': 0, 'loss_count': 0}</td>\n",
       "      <td>...</td>\n",
       "      <td>{'win_count': 0, 'loss_count': 0}</td>\n",
       "      <td>{'win_count': 0, 'loss_count': 0}</td>\n",
       "      <td>{'win_count': 0, 'loss_count': 0}</td>\n",
       "      <td>{'win_count': 0, 'loss_count': 0}</td>\n",
       "      <td>{'win_count': 0, 'loss_count': 0}</td>\n",
       "      <td>{'win_count': 0, 'loss_count': 0}</td>\n",
       "      <td>{'win_count': 0, 'loss_count': 0}</td>\n",
       "      <td>{'win_count': 0, 'loss_count': 0}</td>\n",
       "      <td>{'win_count': 0, 'loss_count': 0}</td>\n",
       "      <td>{'win_count': 0, 'loss_count': 0}</td>\n",
       "    </tr>\n",
       "  </tbody>\n",
       "</table>\n",
       "<p>2 rows × 165 columns</p>\n",
       "</div>"
      ],
      "text/plain": [
       "                                   Aatrox                               Ahri  \\\n",
       "Aatrox  {'win_count': 0, 'loss_count': 0}  {'win_count': 0, 'loss_count': 0}   \n",
       "Ahri    {'win_count': 0, 'loss_count': 0}  {'win_count': 0, 'loss_count': 0}   \n",
       "\n",
       "                                    Akali                             Akshan  \\\n",
       "Aatrox  {'win_count': 0, 'loss_count': 0}  {'win_count': 0, 'loss_count': 0}   \n",
       "Ahri    {'win_count': 0, 'loss_count': 0}  {'win_count': 0, 'loss_count': 0}   \n",
       "\n",
       "                                  Alistar                              Amumu  \\\n",
       "Aatrox  {'win_count': 0, 'loss_count': 0}  {'win_count': 0, 'loss_count': 0}   \n",
       "Ahri    {'win_count': 0, 'loss_count': 0}  {'win_count': 0, 'loss_count': 0}   \n",
       "\n",
       "                                   Anivia                              Annie  \\\n",
       "Aatrox  {'win_count': 0, 'loss_count': 0}  {'win_count': 0, 'loss_count': 0}   \n",
       "Ahri    {'win_count': 0, 'loss_count': 0}  {'win_count': 0, 'loss_count': 0}   \n",
       "\n",
       "                                 Aphelios                               Ashe  \\\n",
       "Aatrox  {'win_count': 0, 'loss_count': 0}  {'win_count': 0, 'loss_count': 0}   \n",
       "Ahri    {'win_count': 0, 'loss_count': 0}  {'win_count': 0, 'loss_count': 0}   \n",
       "\n",
       "        ...                               Yone  \\\n",
       "Aatrox  ...  {'win_count': 0, 'loss_count': 0}   \n",
       "Ahri    ...  {'win_count': 0, 'loss_count': 0}   \n",
       "\n",
       "                                   Yorick                              Yuumi  \\\n",
       "Aatrox  {'win_count': 0, 'loss_count': 0}  {'win_count': 0, 'loss_count': 0}   \n",
       "Ahri    {'win_count': 0, 'loss_count': 0}  {'win_count': 0, 'loss_count': 0}   \n",
       "\n",
       "                                      Zac                                Zed  \\\n",
       "Aatrox  {'win_count': 0, 'loss_count': 0}  {'win_count': 0, 'loss_count': 0}   \n",
       "Ahri    {'win_count': 0, 'loss_count': 0}  {'win_count': 0, 'loss_count': 0}   \n",
       "\n",
       "                                     Zeri                              Ziggs  \\\n",
       "Aatrox  {'win_count': 0, 'loss_count': 0}  {'win_count': 0, 'loss_count': 0}   \n",
       "Ahri    {'win_count': 0, 'loss_count': 0}  {'win_count': 0, 'loss_count': 0}   \n",
       "\n",
       "                                   Zilean                                Zoe  \\\n",
       "Aatrox  {'win_count': 0, 'loss_count': 0}  {'win_count': 0, 'loss_count': 0}   \n",
       "Ahri    {'win_count': 0, 'loss_count': 0}  {'win_count': 0, 'loss_count': 0}   \n",
       "\n",
       "                                     Zyra  \n",
       "Aatrox  {'win_count': 0, 'loss_count': 0}  \n",
       "Ahri    {'win_count': 0, 'loss_count': 0}  \n",
       "\n",
       "[2 rows x 165 columns]"
      ]
     },
     "execution_count": 33,
     "metadata": {},
     "output_type": "execute_result"
    }
   ],
   "source": [
    "MUWinrate_df = pd.DataFrame(MUWinrate)\n",
    "\n",
    "MUWinrate_df.head(2)"
   ]
  },
  {
   "cell_type": "markdown",
   "metadata": {},
   "source": [
    "Now what's really interesting for a Player is knowing which champion to pick against a certain champion in order to win that matchup. Here's a function doing just that :"
   ]
  },
  {
   "cell_type": "code",
   "execution_count": 34,
   "metadata": {},
   "outputs": [],
   "source": [
    "Opponent = \"Kaisa\"\n",
    "\n",
    "BestMU = pv.BestMatchUps(MUWinrate,Opponent)"
   ]
  },
  {
   "cell_type": "markdown",
   "metadata": {},
   "source": [
    "Let's display what we just computed :"
   ]
  },
  {
   "cell_type": "code",
   "execution_count": 35,
   "metadata": {},
   "outputs": [
    {
     "data": {
      "text/html": [
       "<div>\n",
       "<style scoped>\n",
       "    .dataframe tbody tr th:only-of-type {\n",
       "        vertical-align: middle;\n",
       "    }\n",
       "\n",
       "    .dataframe tbody tr th {\n",
       "        vertical-align: top;\n",
       "    }\n",
       "\n",
       "    .dataframe thead th {\n",
       "        text-align: right;\n",
       "    }\n",
       "</style>\n",
       "<table border=\"1\" class=\"dataframe\">\n",
       "  <thead>\n",
       "    <tr style=\"text-align: right;\">\n",
       "      <th></th>\n",
       "      <th>championName</th>\n",
       "      <th>winrate</th>\n",
       "      <th>numberOfGames</th>\n",
       "    </tr>\n",
       "  </thead>\n",
       "  <tbody>\n",
       "    <tr>\n",
       "      <th>0</th>\n",
       "      <td>KogMaw</td>\n",
       "      <td>1.000000</td>\n",
       "      <td>1</td>\n",
       "    </tr>\n",
       "    <tr>\n",
       "      <th>1</th>\n",
       "      <td>Xayah</td>\n",
       "      <td>0.666667</td>\n",
       "      <td>6</td>\n",
       "    </tr>\n",
       "  </tbody>\n",
       "</table>\n",
       "</div>"
      ],
      "text/plain": [
       "  championName   winrate  numberOfGames\n",
       "0       KogMaw  1.000000              1\n",
       "1        Xayah  0.666667              6"
      ]
     },
     "execution_count": 35,
     "metadata": {},
     "output_type": "execute_result"
    }
   ],
   "source": [
    "BestMU_df = pd.DataFrame(BestMU)\n",
    "\n",
    "BestMU_df.head(5)"
   ]
  }
 ],
 "metadata": {
  "kernelspec": {
   "display_name": "env",
   "language": "python",
   "name": "python3"
  },
  "language_info": {
   "codemirror_mode": {
    "name": "ipython",
    "version": 3
   },
   "file_extension": ".py",
   "mimetype": "text/x-python",
   "name": "python",
   "nbconvert_exporter": "python",
   "pygments_lexer": "ipython3",
   "version": "3.11.2"
  }
 },
 "nbformat": 4,
 "nbformat_minor": 2
}
