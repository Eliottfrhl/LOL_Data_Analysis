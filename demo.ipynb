{
 "cells": [
  {
   "cell_type": "markdown",
   "metadata": {},
   "source": [
    "Welcome to our Jupyter Notebook Demo.\n",
    "The objective is to retrieve and treat data from your League of Legends games, and visualize them.\n",
    "\n",
    "First of all we import all functions and classes needed, as well as the API Key that will be used."
   ]
  },
  {
   "cell_type": "code",
   "execution_count": 2,
   "metadata": {},
   "outputs": [],
   "source": [
    "from Scripts.classes import RiotAPI, Summoner, Match\n",
    "from json import load, dump\n",
    "import Scripts.playerVisualization as pv\n",
    "import Scripts.gameVisualization as gv\n",
    "import pandas as pd\n",
    "\n",
    "with open('static/config.json') as f: config = load(f) \n",
    "key = config['Riot_api_key']"
   ]
  },
  {
   "cell_type": "markdown",
   "metadata": {},
   "source": [
    "We now define 2 new objects :\n",
    "- API that will easily allow to make requests to the Riot API \n",
    "- Player that will store data on a Summoner"
   ]
  },
  {
   "cell_type": "code",
   "execution_count": 3,
   "metadata": {},
   "outputs": [],
   "source": [
    "API = RiotAPI(key)    \n",
    "\n",
    "Player = Summoner(API, summoner_name=\"Tourtipouss\")"
   ]
  },
  {
   "cell_type": "markdown",
   "metadata": {},
   "source": [
    "We now retrieve the IDs of the last games the player Played and get each MatchUp statistics. Since we need to create a new Match object for each Game ID, this is the longest part of this code. \n",
    "\n",
    "You can adapt the number of games you want to get data from."
   ]
  },
  {
   "cell_type": "code",
   "execution_count": 4,
   "metadata": {},
   "outputs": [
    {
     "name": "stderr",
     "output_type": "stream",
     "text": [
      "100% |########################################################################|\r"
     ]
    }
   ],
   "source": [
    "GameIDs = Player.get_match_list()\n",
    "\n",
    "LastMU = pv.LastMatchUps(API,Player)\n",
    "\n",
    "MUWinrate = pv.MatchUpWinrate(LastMU)"
   ]
  }
 ],
 "metadata": {
  "kernelspec": {
   "display_name": "env",
   "language": "python",
   "name": "python3"
  },
  "language_info": {
   "codemirror_mode": {
    "name": "ipython",
    "version": 3
   },
   "file_extension": ".py",
   "mimetype": "text/x-python",
   "name": "python",
   "nbconvert_exporter": "python",
   "pygments_lexer": "ipython3",
   "version": "3.11.2"
  }
 },
 "nbformat": 4,
 "nbformat_minor": 2
}
