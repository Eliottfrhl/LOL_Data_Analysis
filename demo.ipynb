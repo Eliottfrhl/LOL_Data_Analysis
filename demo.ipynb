{
 "cells": [
  {
   "cell_type": "markdown",
   "metadata": {},
   "source": [
    "Welcome to our Jupyter Notebook Demo.\n",
    "The objective is to retrieve and treat data from your League of Legends games, and visualize them.\n",
    "\n",
    "First of all we import all functions and classes needed, as well as the API Key that will be used."
   ]
  },
  {
   "cell_type": "code",
   "execution_count": 26,
   "metadata": {},
   "outputs": [],
   "source": [
    "from Scripts.classes import RiotAPI, Summoner, Match\n",
    "from json import load, dump\n",
    "import Scripts.playerVisualization as pv\n",
    "import Scripts.gameVisualization as gv\n",
    "import pandas as pd\n",
    "\n",
    "with open('static/config.json') as f: config = load(f) \n",
    "key = config['Riot_api_key']"
   ]
  },
  {
   "cell_type": "markdown",
   "metadata": {},
   "source": [
    "Then, it's your turn to give your parameters to the Notebook :"
   ]
  },
  {
   "cell_type": "code",
   "execution_count": 27,
   "metadata": {},
   "outputs": [],
   "source": [
    "summoner_name = \"AzN Panda\""
   ]
  },
  {
   "cell_type": "markdown",
   "metadata": {},
   "source": [
    "We now define 2 new objects :\n",
    "- API that will easily allow to make requests to the Riot API \n",
    "- Player that will store data on a Summoner"
   ]
  },
  {
   "cell_type": "code",
   "execution_count": 24,
   "metadata": {},
   "outputs": [],
   "source": [
    "API = RiotAPI(key)    \n",
    "\n",
    "Player = Summoner(API, summoner_name=summoner_name)   "
   ]
  },
  {
   "cell_type": "markdown",
   "metadata": {},
   "source": [
    "We now retrieve the IDs of the last games the player Played and get each MatchUp statistics. Since we need to create a new Match object for each Game ID, this is the longest part of this code. \n",
    "\n",
    "You can adapt the number of games you want to get data from.\n",
    "\n",
    "Then we build a huge dictionnary representing your lane winrate for each of all your champions against all champions."
   ]
  },
  {
   "cell_type": "code",
   "execution_count": 12,
   "metadata": {},
   "outputs": [
    {
     "name": "stderr",
     "output_type": "stream",
     "text": [
      "  1% |                                                                        |\r"
     ]
    },
    {
     "name": "stdout",
     "output_type": "stream",
     "text": [
      "Too many requests for now, trying again in 2min.\n"
     ]
    },
    {
     "name": "stderr",
     "output_type": "stream",
     "text": [
      "  4% |##                                                                      |\r"
     ]
    },
    {
     "name": "stdout",
     "output_type": "stream",
     "text": [
      "Too many requests for now, trying again in 2min.\n"
     ]
    },
    {
     "name": "stderr",
     "output_type": "stream",
     "text": [
      "  6% |####                                                                    |\r"
     ]
    },
    {
     "name": "stdout",
     "output_type": "stream",
     "text": [
      "Too many requests for now, trying again in 2min.\n"
     ]
    },
    {
     "name": "stderr",
     "output_type": "stream",
     "text": [
      "  9% |######                                                                  |\r"
     ]
    },
    {
     "name": "stdout",
     "output_type": "stream",
     "text": [
      "Too many requests for now, trying again in 2min.\n"
     ]
    },
    {
     "name": "stderr",
     "output_type": "stream",
     "text": [
      " 11% |#######                                                                 |\r"
     ]
    },
    {
     "name": "stdout",
     "output_type": "stream",
     "text": [
      "Too many requests for now, trying again in 2min.\n"
     ]
    },
    {
     "name": "stderr",
     "output_type": "stream",
     "text": [
      " 14% |##########                                                              |\r"
     ]
    },
    {
     "name": "stdout",
     "output_type": "stream",
     "text": [
      "Too many requests for now, trying again in 2min.\n"
     ]
    },
    {
     "name": "stderr",
     "output_type": "stream",
     "text": [
      " 16% |###########                                                             |\r"
     ]
    },
    {
     "name": "stdout",
     "output_type": "stream",
     "text": [
      "Too many requests for now, trying again in 2min.\n"
     ]
    },
    {
     "name": "stderr",
     "output_type": "stream",
     "text": [
      " 19% |#############                                                           |\r"
     ]
    },
    {
     "name": "stdout",
     "output_type": "stream",
     "text": [
      "Too many requests for now, trying again in 2min.\n"
     ]
    },
    {
     "name": "stderr",
     "output_type": "stream",
     "text": [
      " 21% |###############                                                         |\r"
     ]
    },
    {
     "name": "stdout",
     "output_type": "stream",
     "text": [
      "Too many requests for now, trying again in 2min.\n"
     ]
    },
    {
     "name": "stderr",
     "output_type": "stream",
     "text": [
      " 23% |################                                                        |\r"
     ]
    },
    {
     "name": "stdout",
     "output_type": "stream",
     "text": [
      "Too many requests for now, trying again in 2min.\n"
     ]
    },
    {
     "name": "stderr",
     "output_type": "stream",
     "text": [
      " 26% |##################                                                      |\r"
     ]
    },
    {
     "name": "stdout",
     "output_type": "stream",
     "text": [
      "Too many requests for now, trying again in 2min.\n"
     ]
    },
    {
     "name": "stderr",
     "output_type": "stream",
     "text": [
      " 28% |####################                                                    |\r"
     ]
    }
   ],
   "source": [
    "numberOfGames = 2000\n",
    "\n",
    "LastMU = pv.LastMatchUps(API,Player,count=numberOfGames)\n",
    "\n",
    "MUWinrate = pv.MatchUpWinrate(LastMU)"
   ]
  },
  {
   "cell_type": "markdown",
   "metadata": {},
   "source": [
    "Let's vizualize what we just built. First, take a look at the last MatchUps you have played."
   ]
  },
  {
   "cell_type": "code",
   "execution_count": 13,
   "metadata": {},
   "outputs": [
    {
     "data": {
      "text/html": [
       "<div>\n",
       "<style scoped>\n",
       "    .dataframe tbody tr th:only-of-type {\n",
       "        vertical-align: middle;\n",
       "    }\n",
       "\n",
       "    .dataframe tbody tr th {\n",
       "        vertical-align: top;\n",
       "    }\n",
       "\n",
       "    .dataframe thead th {\n",
       "        text-align: right;\n",
       "    }\n",
       "</style>\n",
       "<table border=\"1\" class=\"dataframe\">\n",
       "  <thead>\n",
       "    <tr style=\"text-align: right;\">\n",
       "      <th></th>\n",
       "      <th>win</th>\n",
       "      <th>p1</th>\n",
       "      <th>p2</th>\n",
       "    </tr>\n",
       "  </thead>\n",
       "  <tbody>\n",
       "    <tr>\n",
       "      <th>0</th>\n",
       "      <td>True</td>\n",
       "      <td>{'summoner': 'Epsyk', 'champion': 'Rakan', 'ki...</td>\n",
       "      <td>{'summoner': 'roger7', 'champion': 'Karma', 'k...</td>\n",
       "    </tr>\n",
       "    <tr>\n",
       "      <th>1</th>\n",
       "      <td>False</td>\n",
       "      <td>{'summoner': 'Epsyk', 'champion': 'Braum', 'ki...</td>\n",
       "      <td>{'summoner': 'Jodelmeister', 'champion': 'Leon...</td>\n",
       "    </tr>\n",
       "  </tbody>\n",
       "</table>\n",
       "</div>"
      ],
      "text/plain": [
       "     win                                                 p1  \\\n",
       "0   True  {'summoner': 'Epsyk', 'champion': 'Rakan', 'ki...   \n",
       "1  False  {'summoner': 'Epsyk', 'champion': 'Braum', 'ki...   \n",
       "\n",
       "                                                  p2  \n",
       "0  {'summoner': 'roger7', 'champion': 'Karma', 'k...  \n",
       "1  {'summoner': 'Jodelmeister', 'champion': 'Leon...  "
      ]
     },
     "execution_count": 13,
     "metadata": {},
     "output_type": "execute_result"
    }
   ],
   "source": [
    "LastMU_df = pd.DataFrame(LastMU)\n",
    "\n",
    "LastMU_df.head(2)"
   ]
  },
  {
   "cell_type": "markdown",
   "metadata": {},
   "source": [
    "From these last games, we then built a matrix regrouping all wins, losses and winrate when it exists."
   ]
  },
  {
   "cell_type": "code",
   "execution_count": 14,
   "metadata": {},
   "outputs": [
    {
     "data": {
      "text/html": [
       "<div>\n",
       "<style scoped>\n",
       "    .dataframe tbody tr th:only-of-type {\n",
       "        vertical-align: middle;\n",
       "    }\n",
       "\n",
       "    .dataframe tbody tr th {\n",
       "        vertical-align: top;\n",
       "    }\n",
       "\n",
       "    .dataframe thead th {\n",
       "        text-align: right;\n",
       "    }\n",
       "</style>\n",
       "<table border=\"1\" class=\"dataframe\">\n",
       "  <thead>\n",
       "    <tr style=\"text-align: right;\">\n",
       "      <th></th>\n",
       "      <th>aatrox</th>\n",
       "      <th>ahri</th>\n",
       "      <th>akali</th>\n",
       "      <th>akshan</th>\n",
       "      <th>alistar</th>\n",
       "      <th>amumu</th>\n",
       "      <th>anivia</th>\n",
       "      <th>annie</th>\n",
       "      <th>aphelios</th>\n",
       "      <th>ashe</th>\n",
       "      <th>...</th>\n",
       "      <th>yone</th>\n",
       "      <th>yorick</th>\n",
       "      <th>yuumi</th>\n",
       "      <th>zac</th>\n",
       "      <th>zed</th>\n",
       "      <th>zeri</th>\n",
       "      <th>ziggs</th>\n",
       "      <th>zilean</th>\n",
       "      <th>zoe</th>\n",
       "      <th>zyra</th>\n",
       "    </tr>\n",
       "  </thead>\n",
       "  <tbody>\n",
       "    <tr>\n",
       "      <th>aatrox</th>\n",
       "      <td>{'win_count': 0, 'loss_count': 0}</td>\n",
       "      <td>{'win_count': 0, 'loss_count': 0}</td>\n",
       "      <td>{'win_count': 0, 'loss_count': 0}</td>\n",
       "      <td>{'win_count': 0, 'loss_count': 0}</td>\n",
       "      <td>{'win_count': 0, 'loss_count': 0}</td>\n",
       "      <td>{'win_count': 0, 'loss_count': 0}</td>\n",
       "      <td>{'win_count': 0, 'loss_count': 0}</td>\n",
       "      <td>{'win_count': 0, 'loss_count': 0}</td>\n",
       "      <td>{'win_count': 0, 'loss_count': 0}</td>\n",
       "      <td>{'win_count': 0, 'loss_count': 0}</td>\n",
       "      <td>...</td>\n",
       "      <td>{'win_count': 0, 'loss_count': 0}</td>\n",
       "      <td>{'win_count': 0, 'loss_count': 0}</td>\n",
       "      <td>{'win_count': 0, 'loss_count': 0}</td>\n",
       "      <td>{'win_count': 0, 'loss_count': 0}</td>\n",
       "      <td>{'win_count': 0, 'loss_count': 0}</td>\n",
       "      <td>{'win_count': 0, 'loss_count': 0}</td>\n",
       "      <td>{'win_count': 0, 'loss_count': 0}</td>\n",
       "      <td>{'win_count': 0, 'loss_count': 0}</td>\n",
       "      <td>{'win_count': 0, 'loss_count': 0}</td>\n",
       "      <td>{'win_count': 0, 'loss_count': 0}</td>\n",
       "    </tr>\n",
       "    <tr>\n",
       "      <th>ahri</th>\n",
       "      <td>{'win_count': 0, 'loss_count': 0}</td>\n",
       "      <td>{'win_count': 0, 'loss_count': 0}</td>\n",
       "      <td>{'win_count': 0, 'loss_count': 0}</td>\n",
       "      <td>{'win_count': 0, 'loss_count': 0}</td>\n",
       "      <td>{'win_count': 0, 'loss_count': 0}</td>\n",
       "      <td>{'win_count': 0, 'loss_count': 0}</td>\n",
       "      <td>{'win_count': 0, 'loss_count': 0}</td>\n",
       "      <td>{'win_count': 0, 'loss_count': 0}</td>\n",
       "      <td>{'win_count': 0, 'loss_count': 0}</td>\n",
       "      <td>{'win_count': 0, 'loss_count': 0}</td>\n",
       "      <td>...</td>\n",
       "      <td>{'win_count': 0, 'loss_count': 0}</td>\n",
       "      <td>{'win_count': 0, 'loss_count': 0}</td>\n",
       "      <td>{'win_count': 0, 'loss_count': 0}</td>\n",
       "      <td>{'win_count': 0, 'loss_count': 0}</td>\n",
       "      <td>{'win_count': 0, 'loss_count': 0}</td>\n",
       "      <td>{'win_count': 0, 'loss_count': 0}</td>\n",
       "      <td>{'win_count': 0, 'loss_count': 0}</td>\n",
       "      <td>{'win_count': 0, 'loss_count': 0}</td>\n",
       "      <td>{'win_count': 0, 'loss_count': 0}</td>\n",
       "      <td>{'win_count': 0, 'loss_count': 0}</td>\n",
       "    </tr>\n",
       "  </tbody>\n",
       "</table>\n",
       "<p>2 rows × 165 columns</p>\n",
       "</div>"
      ],
      "text/plain": [
       "                                   aatrox                               ahri  \\\n",
       "aatrox  {'win_count': 0, 'loss_count': 0}  {'win_count': 0, 'loss_count': 0}   \n",
       "ahri    {'win_count': 0, 'loss_count': 0}  {'win_count': 0, 'loss_count': 0}   \n",
       "\n",
       "                                    akali                             akshan  \\\n",
       "aatrox  {'win_count': 0, 'loss_count': 0}  {'win_count': 0, 'loss_count': 0}   \n",
       "ahri    {'win_count': 0, 'loss_count': 0}  {'win_count': 0, 'loss_count': 0}   \n",
       "\n",
       "                                  alistar                              amumu  \\\n",
       "aatrox  {'win_count': 0, 'loss_count': 0}  {'win_count': 0, 'loss_count': 0}   \n",
       "ahri    {'win_count': 0, 'loss_count': 0}  {'win_count': 0, 'loss_count': 0}   \n",
       "\n",
       "                                   anivia                              annie  \\\n",
       "aatrox  {'win_count': 0, 'loss_count': 0}  {'win_count': 0, 'loss_count': 0}   \n",
       "ahri    {'win_count': 0, 'loss_count': 0}  {'win_count': 0, 'loss_count': 0}   \n",
       "\n",
       "                                 aphelios                               ashe  \\\n",
       "aatrox  {'win_count': 0, 'loss_count': 0}  {'win_count': 0, 'loss_count': 0}   \n",
       "ahri    {'win_count': 0, 'loss_count': 0}  {'win_count': 0, 'loss_count': 0}   \n",
       "\n",
       "        ...                               yone  \\\n",
       "aatrox  ...  {'win_count': 0, 'loss_count': 0}   \n",
       "ahri    ...  {'win_count': 0, 'loss_count': 0}   \n",
       "\n",
       "                                   yorick                              yuumi  \\\n",
       "aatrox  {'win_count': 0, 'loss_count': 0}  {'win_count': 0, 'loss_count': 0}   \n",
       "ahri    {'win_count': 0, 'loss_count': 0}  {'win_count': 0, 'loss_count': 0}   \n",
       "\n",
       "                                      zac                                zed  \\\n",
       "aatrox  {'win_count': 0, 'loss_count': 0}  {'win_count': 0, 'loss_count': 0}   \n",
       "ahri    {'win_count': 0, 'loss_count': 0}  {'win_count': 0, 'loss_count': 0}   \n",
       "\n",
       "                                     zeri                              ziggs  \\\n",
       "aatrox  {'win_count': 0, 'loss_count': 0}  {'win_count': 0, 'loss_count': 0}   \n",
       "ahri    {'win_count': 0, 'loss_count': 0}  {'win_count': 0, 'loss_count': 0}   \n",
       "\n",
       "                                   zilean                                zoe  \\\n",
       "aatrox  {'win_count': 0, 'loss_count': 0}  {'win_count': 0, 'loss_count': 0}   \n",
       "ahri    {'win_count': 0, 'loss_count': 0}  {'win_count': 0, 'loss_count': 0}   \n",
       "\n",
       "                                     zyra  \n",
       "aatrox  {'win_count': 0, 'loss_count': 0}  \n",
       "ahri    {'win_count': 0, 'loss_count': 0}  \n",
       "\n",
       "[2 rows x 165 columns]"
      ]
     },
     "execution_count": 14,
     "metadata": {},
     "output_type": "execute_result"
    }
   ],
   "source": [
    "MUWinrate_df = pd.DataFrame(MUWinrate)\n",
    "\n",
    "MUWinrate_df.head(2)"
   ]
  },
  {
   "cell_type": "markdown",
   "metadata": {},
   "source": [
    "Now what's really interesting for a Player is knowing which champion to pick against a certain champion in order to win that matchup. Here's a function doing just that :"
   ]
  },
  {
   "cell_type": "code",
   "execution_count": 15,
   "metadata": {},
   "outputs": [],
   "source": [
    "Opponent = \"janna\"\n",
    "\n",
    "BestMU = pv.BestMatchUps(MUWinrate,Opponent)"
   ]
  },
  {
   "cell_type": "markdown",
   "metadata": {},
   "source": [
    "Let's display what we just computed :"
   ]
  },
  {
   "cell_type": "code",
   "execution_count": 16,
   "metadata": {},
   "outputs": [
    {
     "data": {
      "text/html": [
       "<div>\n",
       "<style scoped>\n",
       "    .dataframe tbody tr th:only-of-type {\n",
       "        vertical-align: middle;\n",
       "    }\n",
       "\n",
       "    .dataframe tbody tr th {\n",
       "        vertical-align: top;\n",
       "    }\n",
       "\n",
       "    .dataframe thead th {\n",
       "        text-align: right;\n",
       "    }\n",
       "</style>\n",
       "<table border=\"1\" class=\"dataframe\">\n",
       "  <thead>\n",
       "    <tr style=\"text-align: right;\">\n",
       "      <th></th>\n",
       "      <th>championName</th>\n",
       "      <th>winrate</th>\n",
       "      <th>numberOfGames</th>\n",
       "    </tr>\n",
       "  </thead>\n",
       "  <tbody>\n",
       "    <tr>\n",
       "      <th>0</th>\n",
       "      <td>rakan</td>\n",
       "      <td>0.0</td>\n",
       "      <td>1</td>\n",
       "    </tr>\n",
       "  </tbody>\n",
       "</table>\n",
       "</div>"
      ],
      "text/plain": [
       "  championName  winrate  numberOfGames\n",
       "0        rakan      0.0              1"
      ]
     },
     "execution_count": 16,
     "metadata": {},
     "output_type": "execute_result"
    }
   ],
   "source": [
    "BestMU_df = pd.DataFrame(BestMU)\n",
    "\n",
    "BestMU_df.head(5)"
   ]
  },
  {
   "cell_type": "markdown",
   "metadata": {},
   "source": [
    "Now we'll store all this data in a document so we don't have to get them every time we come back."
   ]
  },
  {
   "cell_type": "code",
   "execution_count": 17,
   "metadata": {},
   "outputs": [],
   "source": [
    "with open(\"data/\"+Player.summoner_name+\"/MatchUps.json\",\"w\",encoding=\"utf-8\") as f:\n",
    "    dump(MUWinrate,f)"
   ]
  },
  {
   "cell_type": "code",
   "execution_count": 36,
   "metadata": {},
   "outputs": [
    {
     "name": "stdout",
     "output_type": "stream",
     "text": [
      "{'metadata': {'dataVersion': '2', 'matchId': 'EUW1_5776634829', 'participants': ['5i4sykCrWO_PTm2iioSL00JjiSZg2-vP6FRl3ZNq1pufeSuftDNKLKLU5BA3qvKAMNVqB8PsASZQ9A', 'oUaSH8HYIlcXpV_vguCYbVA4CU4MUxP_aqswu0y228heeE5uNMbU4z8uHE4v6QvTEgnI7whru0xKaA', 'x_ao4lWBlTwJCTbBdmlwUej55NcUB5tXgQa11n3m7-xmnZvUuB4qbOtfI08J6-ah-__1Tr4_9g_HXQ', 's_SztG_QkFBh6U69JMj9KJknEz8I5k0wd9WtaGyHodTB6NtaI5tHFC53554Ysan2DK0tYdYJXcazeg', 'D796gH8G1HoFl9E6dU1sjjRutVfOnty-qsPfuqCFttxEVcfUj0-Xjegeom1edMZUPkDP4pBquf0-_Q', 'b_M3Tg0ZWE-Jeifw6-fT_2JUOmYg92zEOM59Jjdj6S0PPJlbT8Gb69oJW8TEVE5YoH7wkDJhPCZKBg', 'D1O_DHxE6xzzXxl3slgGgShiicgHBLSibWH07sOsy4ZOHHPm4-l3Dqt6--uj4vERlMqNM8wCUXrR4A', 'C4INYCCfrdBPA1AqjsOTF44wIYKpf30m1lCndiFNRjtcQ8afo55BPV7gdmku0uVIspeFXxGR_y4zeg', 'zJjCyHsL2OR1BFbnoSBEKybBa4PU2y-eBmP2TXCXtqOp-YH6bvyg_YvboFJZtefyyL6FwkY8WxWlJA', 'JaY3Ztpy96QzJqmT1AfREK82NF3lBK3rbuuf3wViaQX_el2WgRxnH_KKWtTYNJlC87lq6wwBXvL1tA']}, 'info': {'gameCreation': 1647250792000, 'gameDuration': 1784, 'gameEndTimestamp': 1647252635845, 'gameId': 5776634829, 'gameMode': 'CLASSIC', 'gameName': 'teambuilder-match-5776634829', 'gameStartTimestamp': 1647250851432, 'gameType': 'MATCHED_GAME', 'gameVersion': '12.5.425.9171', 'mapId': 11, 'participants': [{'assists': 4, 'baronKills': 0, 'bountyLevel': 5, 'challenges': {'12AssistStreakCount': 0, 'abilityUses': 199, 'acesBefore15Minutes': 0, 'alliedJungleMonsterKills': 8.000000029802322, 'baronBuffGoldAdvantageOverThreshold': 1, 'baronTakedowns': 0, 'blastConeOppositeOpponentCount': 0, 'bountyGold': 750, 'buffsStolen': 0, 'completeSupportQuestInTime': 0, 'controlWardsPlaced': 0, 'damagePerMinute': 5584.156430218329, 'damageTakenOnTeamPercentage': 0.29145678337108927, 'dancedWithRiftHerald': 0, 'deathsByEnemyChamps': 6, 'dodgeSkillShotsSmallWindow': 16, 'doubleAces': 0, 'dragonTakedowns': 2, 'earliestBaron': 1300.054189973017, 'earliestDragonTakedown': 1385.6688290854129, 'earlyLaningPhaseGoldExpAdvantage': 0, 'effectiveHealAndShielding': 0, 'elderDragonKillsWithOpposingSoul': 0, 'elderDragonMultikills': 0, 'enemyChampionImmobilizations': 1, 'enemyJungleMonsterKills': 4, 'epicMonsterKillsNearEnemyJungler': 0, 'epicMonsterKillsWithin30SecondsOfSpawn': 0, 'epicMonsterSteals': 0, 'epicMonsterStolenWithoutSmite': 0, 'flawlessAces': 1, 'fullTeamTakedown': 0, 'gameLength': 1784.4491933601516, 'goldPerMinute': 531.1570084703459, 'hadAfkTeammate': 0, 'hadOpenNexus': 0, 'highestChampionDamage': 1, 'highestWardKills': 1, 'immobilizeAndKillWithAlly': 0, 'initialBuffCount': 0, 'initialCrabCount': 0, 'jungleCsBefore10Minutes': 0, 'junglerKillsEarlyJungle': 0, 'junglerTakedownsNearDamagedEpicMonster': 0, 'kTurretsDestroyedBeforePlatesFall': 0, 'kda': 2.6666666666666665, 'killAfterHiddenWithAlly': 2, 'killParticipation': 0.8, 'killedChampTookFullTeamDamageSurvived': 1, 'killsNearEnemyTurret': 3, 'killsOnLanersEarlyJungleAsJungler': 0, 'killsOnRecentlyHealedByAramPack': 0, 'killsUnderOwnTurret': 1, 'killsWithHelpFromEpicMonster': 0, 'knockEnemyIntoTeamAndKill': 0, 'landSkillShotsEarlyGame': 1, 'laneMinionsFirst10Minutes': 52, 'laningPhaseGoldExpAdvantage': 0, 'legendaryCount': 0, 'lostAnInhibitor': 0, 'maxCsAdvantageOnLaneOpponent': 59.24999988079071, 'maxKillDeficit': 5, 'maxLevelLeadLaneOpponent': 3, 'moreEnemyJungleThanOpponent': -110.00000005960464, 'multiKillOneSpell': 0, 'multiTurretRiftHeraldCount': 0, 'multikills': 3, 'multikillsAfterAggressiveFlash': 0, 'mythicItemUsed': 6631, 'outerTurretExecutesBefore10Minutes': 0, 'outnumberedKills': 3, 'outnumberedNexusKill': 0, 'perfectDragonSoulsTaken': 1, 'perfectGame': 0, 'pickKillWithAlly': 0, 'poroExplosions': 0, 'quickCleanse': 0, 'quickFirstTurret': 0, 'quickSoloKills': 0, 'riftHeraldTakedowns': 0, 'saveAllyFromDeath': 0, 'scuttleCrabKills': 2, 'shortestTimeToAceFromFirstTakedown': 12.912596719611429, 'skillshotsDodged': 9, 'skillshotsHit': 14, 'snowballsHit': 0, 'soloBaronKills': 0, 'soloKills': 3, 'soloTurretsLategame': 1, 'stealthWardsPlaced': 9, 'survivedSingleDigitHpCount': 0, 'survivedThreeImmobilizesInFight': 1, 'takedownOnFirstTurret': 0, 'takedowns': 16, 'takedownsAfterGainingLevelAdvantage': 0, 'takedownsBeforeJungleMinionSpawn': 0, 'takedownsFirst25Minutes': 10, 'takedownsInAlcove': 0, 'takedownsInEnemyFountain': 0, 'teamBaronKills': 2, 'teamDamagePercentage': 0.299943165055256, 'teamElderDragonKills': 0, 'teamRiftHeraldKills': 0, 'threeWardsOneSweeperCount': 0, 'tookLargeDamageSurvived': 1, 'turretPlatesTaken': 2, 'turretTakedowns': 2, 'turretsTakenWithRiftHerald': 0, 'twentyMinionsIn3SecondsCount': 0, 'unseenRecalls': 0, 'visionScoreAdvantageLaneOpponent': 1.572563886642456, 'visionScorePerMinute': 0.9655021207673539, 'wardTakedowns': 7, 'wardTakedownsBefore20M': 3, 'wardsGuarded': 3}, 'champExperience': 17315, 'champLevel': 17, 'championId': 86, 'championName': 'Garen', 'championTransform': 0, 'consumablesPurchased': 1, 'damageDealtToBuildings': 5448, 'damageDealtToObjectives': 9507, 'damageDealtToTurrets': 5448, 'damageSelfMitigated': 39326, 'deaths': 6, 'detectorWardsPlaced': 0, 'doubleKills': 2, 'dragonKills': 0, 'firstBloodAssist': False, 'firstBloodKill': False, 'firstTowerAssist': False, 'firstTowerKill': False, 'gameEndedInEarlySurrender': False, 'gameEndedInSurrender': True, 'goldEarned': 15797, 'goldSpent': 14450, 'individualPosition': 'TOP', 'inhibitorKills': 0, 'inhibitorTakedowns': 0, 'inhibitorsLost': 0, 'item0': 6035, 'item1': 6631, 'item2': 1028, 'item3': 3742, 'item4': 3047, 'item5': 3053, 'item6': 3340, 'itemsPurchased': 19, 'killingSprees': 3, 'kills': 12, 'lane': 'JUNGLE', 'largestCriticalStrike': 0, 'largestKillingSpree': 5, 'largestMultiKill': 3, 'longestTimeSpentLiving': 439, 'magicDamageDealt': 0, 'magicDamageDealtToChampions': 0, 'magicDamageTaken': 9868, 'neutralMinionsKilled': 20, 'nexusKills': 0, 'nexusLost': 0, 'nexusTakedowns': 0, 'objectivesStolen': 0, 'objectivesStolenAssists': 0, 'participantId': 1, 'pentaKills': 0, 'perks': {'statPerks': {'defense': 5002, 'flex': 5008, 'offense': 5008}, 'styles': [{'description': 'primaryStyle', 'selections': [{'perk': 8010, 'var1': 1182, 'var2': 0, 'var3': 0}, {'perk': 9111, 'var1': 1873, 'var2': 320, 'var3': 0}, {'perk': 9105, 'var1': 16, 'var2': 20, 'var3': 0}, {'perk': 8299, 'var1': 631, 'var2': 0, 'var3': 0}], 'style': 8000}, {'description': 'subStyle', 'selections': [{'perk': 8429, 'var1': 59, 'var2': 20, 'var3': 15}, {'perk': 8451, 'var1': 233, 'var2': 0, 'var3': 0}], 'style': 8400}]}, 'physicalDamageDealt': 161490, 'physicalDamageDealtToChampions': 19980, 'physicalDamageTaken': 15925, 'profileIcon': 5116, 'puuid': '5i4sykCrWO_PTm2iioSL00JjiSZg2-vP6FRl3ZNq1pufeSuftDNKLKLU5BA3qvKAMNVqB8PsASZQ9A', 'quadraKills': 0, 'riotIdName': '', 'riotIdTagline': '', 'role': 'NONE', 'sightWardsBoughtInGame': 0, 'spell1Casts': 101, 'spell2Casts': 21, 'spell3Casts': 69, 'spell4Casts': 8, 'summoner1Casts': 6, 'summoner1Id': 14, 'summoner2Casts': 4, 'summoner2Id': 4, 'summonerId': 'lFcY_en7DcktwTk5xppx8hqh4paxT7vPeVrS8cJKvvoQNIU', 'summonerLevel': 92, 'summonerName': 'Epsyk', 'teamEarlySurrendered': False, 'teamId': 100, 'teamPosition': 'TOP', 'timeCCingOthers': 47, 'timePlayed': 1784, 'totalDamageDealt': 166077, 'totalDamageDealtToChampions': 24425, 'totalDamageShieldedOnTeammates': 0, 'totalDamageTaken': 28084, 'totalHeal': 5507, 'totalHealsOnTeammates': 0, 'totalMinionsKilled': 198, 'totalTimeCCDealt': 366, 'totalTimeSpentDead': 150, 'totalUnitsHealed': 1, 'tripleKills': 1, 'trueDamageDealt': 4586, 'trueDamageDealtToChampions': 4445, 'trueDamageTaken': 2291, 'turretKills': 2, 'turretTakedowns': 2, 'turretsLost': 3, 'unrealKills': 0, 'visionScore': 28, 'visionWardsBoughtInGame': 0, 'wardsKilled': 7, 'wardsPlaced': 9, 'win': True}, {'assists': 11, 'baronKills': 2, 'bountyLevel': 2, 'challenges': {'12AssistStreakCount': 0, 'abilityUses': 184, 'acesBefore15Minutes': 0, 'alliedJungleMonsterKills': 82.50000017881393, 'baronBuffGoldAdvantageOverThreshold': 1, 'baronTakedowns': 2, 'blastConeOppositeOpponentCount': 0, 'bountyGold': 0, 'buffsStolen': 1, 'completeSupportQuestInTime': 0, 'controlWardTimeCoverageInRiverOrEnemyHalf': 0.026394106238606115, 'controlWardsPlaced': 1, 'damagePerMinute': 5226.9317037470355, 'damageTakenOnTeamPercentage': 0.27839520426280545, 'dancedWithRiftHerald': 0, 'deathsByEnemyChamps': 3, 'dodgeSkillShotsSmallWindow': 16, 'doubleAces': 0, 'dragonTakedowns': 4, 'earliestBaron': 1300.054189973017, 'earliestDragonTakedown': 696.3613753363376, 'earlyLaningPhaseGoldExpAdvantage': -0.05691343545913696, 'effectiveHealAndShielding': 0, 'elderDragonKillsWithOpposingSoul': 0, 'elderDragonMultikills': 0, 'enemyChampionImmobilizations': 34, 'enemyJungleMonsterKills': 13.500000029802322, 'epicMonsterKillsNearEnemyJungler': 0, 'epicMonsterKillsWithin30SecondsOfSpawn': 2, 'epicMonsterSteals': 0, 'epicMonsterStolenWithoutSmite': 0, 'flawlessAces': 1, 'fullTeamTakedown': 0, 'gameLength': 1784.4491933601516, 'goldPerMinute': 390.72393560606696, 'hadAfkTeammate': 0, 'hadOpenNexus': 0, 'highestCrowdControlScore': 1, 'immobilizeAndKillWithAlly': 11, 'initialBuffCount': 3, 'initialCrabCount': 0, 'jungleCsBefore10Minutes': 48.000000059604645, 'junglerKillsEarlyJungle': 0, 'junglerTakedownsNearDamagedEpicMonster': 2, 'kTurretsDestroyedBeforePlatesFall': 0, 'kda': 5.666666666666667, 'killAfterHiddenWithAlly': 2, 'killParticipation': 0.85, 'killedChampTookFullTeamDamageSurvived': 12, 'killsNearEnemyTurret': 0, 'killsOnLanersEarlyJungleAsJungler': 0, 'killsOnRecentlyHealedByAramPack': 0, 'killsUnderOwnTurret': 1, 'killsWithHelpFromEpicMonster': 0, 'knockEnemyIntoTeamAndKill': 11, 'landSkillShotsEarlyGame': 1, 'laneMinionsFirst10Minutes': 7, 'laningPhaseGoldExpAdvantage': -0.14200299978256226, 'legendaryCount': 0, 'lostAnInhibitor': 0, 'maxCsAdvantageOnLaneOpponent': 26, 'maxKillDeficit': 5, 'maxLevelLeadLaneOpponent': 2, 'moreEnemyJungleThanOpponent': -62, 'multiKillOneSpell': 0, 'multiTurretRiftHeraldCount': 0, 'multikills': 1, 'multikillsAfterAggressiveFlash': 0, 'mythicItemUsed': 6632, 'outerTurretExecutesBefore10Minutes': 0, 'outnumberedKills': 0, 'outnumberedNexusKill': 0, 'perfectDragonSoulsTaken': 1, 'perfectGame': 0, 'pickKillWithAlly': 0, 'poroExplosions': 0, 'quickCleanse': 0, 'quickFirstTurret': 0, 'quickSoloKills': 0, 'riftHeraldTakedowns': 0, 'saveAllyFromDeath': 0, 'scuttleCrabKills': 3, 'skillshotsDodged': 3, 'skillshotsHit': 10, 'snowballsHit': 0, 'soloBaronKills': 0, 'soloKills': 0, 'soloTurretsLategame': 1, 'stealthWardsPlaced': 2, 'survivedSingleDigitHpCount': 0, 'survivedThreeImmobilizesInFight': 1, 'takedownOnFirstTurret': 0, 'takedowns': 17, 'takedownsAfterGainingLevelAdvantage': 0, 'takedownsBeforeJungleMinionSpawn': 0, 'takedownsFirst25Minutes': 13, 'takedownsInAlcove': 0, 'takedownsInEnemyFountain': 0, 'teamBaronKills': 2, 'teamDamagePercentage': 0.1753468491790232, 'teamElderDragonKills': 0, 'teamRiftHeraldKills': 0, 'threeWardsOneSweeperCount': 0, 'tookLargeDamageSurvived': 0, 'turretPlatesTaken': 0, 'turretTakedowns': 0, 'turretsTakenWithRiftHerald': 0, 'twentyMinionsIn3SecondsCount': 0, 'unseenRecalls': 0, 'visionScoreAdvantageLaneOpponent': 1.1019397974014282, 'visionScorePerMinute': 0.676554528996922, 'wardTakedowns': 5, 'wardTakedownsBefore20M': 3, 'wardsGuarded': 0}, 'champExperience': 15162, 'champLevel': 16, 'championId': 78, 'championName': 'Poppy', 'championTransform': 0, 'consumablesPurchased': 1, 'damageDealtToBuildings': 0, 'damageDealtToObjectives': 28415, 'damageDealtToTurrets': 0, 'damageSelfMitigated': 37304, 'deaths': 3, 'detectorWardsPlaced': 1, 'doubleKills': 1, 'dragonKills': 4, 'firstBloodAssist': False, 'firstBloodKill': False, 'firstTowerAssist': False, 'firstTowerKill': False, 'gameEndedInEarlySurrender': False, 'gameEndedInSurrender': True, 'goldEarned': 11620, 'goldSpent': 9350, 'individualPosition': 'JUNGLE', 'inhibitorKills': 0, 'inhibitorTakedowns': 0, 'inhibitorsLost': 0, 'item0': 3047, 'item1': 1028, 'item2': 6632, 'item3': 3075, 'item4': 1037, 'item5': 1028, 'item6': 3364, 'itemsPurchased': 16, 'killingSprees': 2, 'kills': 6, 'lane': 'JUNGLE', 'largestCriticalStrike': 17, 'largestKillingSpree': 4, 'largestMultiKill': 2, 'longestTimeSpentLiving': 902, 'magicDamageDealt': 15995, 'magicDamageDealtToChampions': 1329, 'magicDamageTaken': 6122, 'neutralMinionsKilled': 142, 'nexusKills': 0, 'nexusLost': 0, 'nexusTakedowns': 0, 'objectivesStolen': 0, 'objectivesStolenAssists': 0, 'participantId': 2, 'pentaKills': 0, 'perks': {'statPerks': {'defense': 5002, 'flex': 5008, 'offense': 5005}, 'styles': [{'description': 'primaryStyle', 'selections': [{'perk': 8128, 'var1': 1007, 'var2': 19, 'var3': 0}, {'perk': 8143, 'var1': 433, 'var2': 0, 'var3': 0}, {'perk': 8138, 'var1': 18, 'var2': 0, 'var3': 0}, {'perk': 8105, 'var1': 13, 'var2': 5, 'var3': 0}], 'style': 8100}, {'description': 'subStyle', 'selections': [{'perk': 9111, 'var1': 1765, 'var2': 340, 'var3': 0}, {'perk': 9104, 'var1': 15, 'var2': 0, 'var3': 0}], 'style': 8000}]}, 'physicalDamageDealt': 124041, 'physicalDamageDealtToChampions': 12374, 'physicalDamageTaken': 19804, 'profileIcon': 659, 'puuid': 'oUaSH8HYIlcXpV_vguCYbVA4CU4MUxP_aqswu0y228heeE5uNMbU4z8uHE4v6QvTEgnI7whru0xKaA', 'quadraKills': 0, 'riotIdName': '', 'riotIdTagline': '', 'role': 'NONE', 'sightWardsBoughtInGame': 0, 'spell1Casts': 127, 'spell2Casts': 15, 'spell3Casts': 38, 'spell4Casts': 4, 'summoner1Casts': 5, 'summoner1Id': 4, 'summoner2Casts': 17, 'summoner2Id': 11, 'summonerId': 'nOssiUrULU8JJqC1qWOfIM1QAvvz1mC6CZ_TT4RTnVwpxYc', 'summonerLevel': 114, 'summonerName': 'OngaroEnrico', 'teamEarlySurrendered': False, 'teamId': 100, 'teamPosition': 'JUNGLE', 'timeCCingOthers': 30, 'timePlayed': 1784, 'totalDamageDealt': 155453, 'totalDamageDealtToChampions': 14279, 'totalDamageShieldedOnTeammates': 0, 'totalDamageTaken': 26826, 'totalHeal': 14127, 'totalHealsOnTeammates': 0, 'totalMinionsKilled': 29, 'totalTimeCCDealt': 656, 'totalTimeSpentDead': 77, 'totalUnitsHealed': 1, 'tripleKills': 0, 'trueDamageDealt': 15415, 'trueDamageDealtToChampions': 575, 'trueDamageTaken': 899, 'turretKills': 0, 'turretTakedowns': 0, 'turretsLost': 3, 'unrealKills': 0, 'visionScore': 20, 'visionWardsBoughtInGame': 1, 'wardsKilled': 5, 'wardsPlaced': 3, 'win': True}, {'assists': 15, 'baronKills': 0, 'bountyLevel': 1, 'challenges': {'12AssistStreakCount': 0, 'abilityUses': 276, 'acesBefore15Minutes': 0, 'alliedJungleMonsterKills': 0, 'baronBuffGoldAdvantageOverThreshold': 1, 'baronTakedowns': 2, 'blastConeOppositeOpponentCount': 0, 'bountyGold': 150, 'buffsStolen': 0, 'completeSupportQuestInTime': 0, 'controlWardTimeCoverageInRiverOrEnemyHalf': 0.03912125356584317, 'controlWardsPlaced': 1, 'damagePerMinute': 3486.0000627344907, 'damageTakenOnTeamPercentage': 0.18034121755918195, 'dancedWithRiftHerald': 0, 'deathsByEnemyChamps': 5, 'dodgeSkillShotsSmallWindow': 16, 'doubleAces': 0, 'dragonTakedowns': 2, 'earliestBaron': 1300.054189973017, 'earliestDragonTakedown': 696.3613753363376, 'earlyLaningPhaseGoldExpAdvantage': -0.2739101052284241, 'effectiveHealAndShielding': 0, 'elderDragonKillsWithOpposingSoul': 0, 'elderDragonMultikills': 0, 'enemyChampionImmobilizations': 13, 'enemyJungleMonsterKills': 0, 'epicMonsterKillsNearEnemyJungler': 0, 'epicMonsterKillsWithin30SecondsOfSpawn': 0, 'epicMonsterSteals': 0, 'epicMonsterStolenWithoutSmite': 0, 'flawlessAces': 1, 'fullTeamTakedown': 0, 'gameLength': 1784.4491933601516, 'getTakedownsInAllLanesEarlyJungleAsLaner': 0, 'goldPerMinute': 405.91848771261584, 'hadAfkTeammate': 0, 'hadOpenNexus': 0, 'immobilizeAndKillWithAlly': 10, 'initialBuffCount': 0, 'initialCrabCount': 0, 'jungleCsBefore10Minutes': 0, 'junglerKillsEarlyJungle': 0, 'junglerTakedownsNearDamagedEpicMonster': 2, 'kTurretsDestroyedBeforePlatesFall': 0, 'kda': 4.8, 'killAfterHiddenWithAlly': 4, 'killParticipation': 1.2, 'killedChampTookFullTeamDamageSurvived': 5, 'killsNearEnemyTurret': 1, 'killsOnLanersEarlyJungleAsJungler': 0, 'killsOnOtherLanesEarlyJungleAsLaner': 0, 'killsOnRecentlyHealedByAramPack': 0, 'killsUnderOwnTurret': 2, 'killsWithHelpFromEpicMonster': 0, 'knockEnemyIntoTeamAndKill': 0, 'landSkillShotsEarlyGame': 2, 'laneMinionsFirst10Minutes': 51, 'laningPhaseGoldExpAdvantage': -0.12796276807785034, 'legendaryCount': 0, 'lostAnInhibitor': 0, 'maxCsAdvantageOnLaneOpponent': 1, 'maxKillDeficit': 5, 'maxLevelLeadLaneOpponent': 1, 'moreEnemyJungleThanOpponent': -110.00000005960464, 'multiKillOneSpell': 0, 'multiTurretRiftHeraldCount': 0, 'multikills': 0, 'multikillsAfterAggressiveFlash': 0, 'mythicItemUsed': 6655, 'outerTurretExecutesBefore10Minutes': 0, 'outnumberedKills': 1, 'outnumberedNexusKill': 0, 'perfectDragonSoulsTaken': 1, 'perfectGame': 0, 'pickKillWithAlly': 0, 'poroExplosions': 0, 'quickCleanse': 0, 'quickFirstTurret': 0, 'quickSoloKills': 0, 'riftHeraldTakedowns': 0, 'saveAllyFromDeath': 0, 'scuttleCrabKills': 0, 'shortestTimeToAceFromFirstTakedown': 12.912596719611429, 'skillshotsDodged': 20, 'skillshotsHit': 12, 'snowballsHit': 0, 'soloBaronKills': 0, 'soloKills': 2, 'soloTurretsLategame': 1, 'stealthWardsPlaced': 6, 'survivedSingleDigitHpCount': 0, 'survivedThreeImmobilizesInFight': 1, 'takedownOnFirstTurret': 0, 'takedowns': 24, 'takedownsAfterGainingLevelAdvantage': 0, 'takedownsBeforeJungleMinionSpawn': 0, 'takedownsFirst25Minutes': 15, 'takedownsInAlcove': 0, 'takedownsInEnemyFountain': 0, 'teamBaronKills': 2, 'teamDamagePercentage': 0.24612346798740617, 'teamElderDragonKills': 0, 'teamRiftHeraldKills': 0, 'teleportTakedowns': 2, 'threeWardsOneSweeperCount': 0, 'tookLargeDamageSurvived': 0, 'turretPlatesTaken': 1, 'turretTakedowns': 1, 'turretsTakenWithRiftHerald': 0, 'twentyMinionsIn3SecondsCount': 0, 'unseenRecalls': 0, 'visionScoreAdvantageLaneOpponent': 0.8248716592788696, 'visionScorePerMinute': 0.4625432779589714, 'wardTakedowns': 2, 'wardTakedownsBefore20M': 0, 'wardsGuarded': 0}, 'champExperience': 15483, 'champLevel': 16, 'championId': 103, 'championName': 'Ahri', 'championTransform': 0, 'consumablesPurchased': 1, 'damageDealtToBuildings': 1913, 'damageDealtToObjectives': 13480, 'damageDealtToTurrets': 1913, 'damageSelfMitigated': 7836, 'deaths': 5, 'detectorWardsPlaced': 1, 'doubleKills': 0, 'dragonKills': 0, 'firstBloodAssist': False, 'firstBloodKill': False, 'firstTowerAssist': False, 'firstTowerKill': False, 'gameEndedInEarlySurrender': False, 'gameEndedInSurrender': True, 'goldEarned': 12072, 'goldSpent': 10475, 'individualPosition': 'MIDDLE', 'inhibitorKills': 0, 'inhibitorTakedowns': 0, 'inhibitorsLost': 0, 'item0': 0, 'item1': 3157, 'item2': 4645, 'item3': 0, 'item4': 6655, 'item5': 3020, 'item6': 3340, 'itemsPurchased': 17, 'killingSprees': 2, 'kills': 9, 'lane': 'MIDDLE', 'largestCriticalStrike': 0, 'largestKillingSpree': 3, 'largestMultiKill': 1, 'longestTimeSpentLiving': 441, 'magicDamageDealt': 63256, 'magicDamageDealtToChampions': 16110, 'magicDamageTaken': 6666, 'neutralMinionsKilled': 0, 'nexusKills': 0, 'nexusLost': 0, 'nexusTakedowns': 0, 'objectivesStolen': 0, 'objectivesStolenAssists': 0, 'participantId': 3, 'pentaKills': 0, 'perks': {'statPerks': {'defense': 5002, 'flex': 5008, 'offense': 5005}, 'styles': [{'description': 'primaryStyle', 'selections': [{'perk': 8112, 'var1': 1921, 'var2': 0, 'var3': 0}, {'perk': 8139, 'var1': 984, 'var2': 0, 'var3': 0}, {'perk': 8138, 'var1': 30, 'var2': 0, 'var3': 0}, {'perk': 8106, 'var1': 5, 'var2': 0, 'var3': 0}], 'style': 8100}, {'description': 'subStyle', 'selections': [{'perk': 8226, 'var1': 250, 'var2': 973, 'var3': 0}, {'perk': 8210, 'var1': 30, 'var2': 0, 'var3': 0}], 'style': 8200}]}, 'physicalDamageDealt': 11661, 'physicalDamageDealtToChampions': 930, 'physicalDamageTaken': 9547, 'profileIcon': 1154, 'puuid': 'x_ao4lWBlTwJCTbBdmlwUej55NcUB5tXgQa11n3m7-xmnZvUuB4qbOtfI08J6-ah-__1Tr4_9g_HXQ', 'quadraKills': 0, 'riotIdName': '', 'riotIdTagline': '', 'role': 'SOLO', 'sightWardsBoughtInGame': 0, 'spell1Casts': 90, 'spell2Casts': 103, 'spell3Casts': 38, 'spell4Casts': 45, 'summoner1Casts': 5, 'summoner1Id': 14, 'summoner2Casts': 5, 'summoner2Id': 4, 'summonerId': 'LKrjhbpmuULElIMFxGyyEIHjWQBu9mSgUhe7HeduBDD4lOPq', 'summonerLevel': 39, 'summonerName': 'Elenyria', 'teamEarlySurrendered': False, 'teamId': 100, 'teamPosition': 'MIDDLE', 'timeCCingOthers': 19, 'timePlayed': 1784, 'totalDamageDealt': 103676, 'totalDamageDealtToChampions': 20042, 'totalDamageShieldedOnTeammates': 0, 'totalDamageTaken': 17377, 'totalHeal': 5978, 'totalHealsOnTeammates': 0, 'totalMinionsKilled': 125, 'totalTimeCCDealt': 64, 'totalTimeSpentDead': 182, 'totalUnitsHealed': 1, 'tripleKills': 0, 'trueDamageDealt': 28758, 'trueDamageDealtToChampions': 3001, 'trueDamageTaken': 1164, 'turretKills': 0, 'turretTakedowns': 1, 'turretsLost': 3, 'unrealKills': 0, 'visionScore': 13, 'visionWardsBoughtInGame': 1, 'wardsKilled': 2, 'wardsPlaced': 7, 'win': True}, {'assists': 6, 'baronKills': 0, 'bountyLevel': 1, 'challenges': {'12AssistStreakCount': 0, 'abilityUses': 116, 'acesBefore15Minutes': 0, 'alliedJungleMonsterKills': 15, 'baronBuffGoldAdvantageOverThreshold': 1, 'baronTakedowns': 1, 'blastConeOppositeOpponentCount': 0, 'bountyGold': 0, 'buffsStolen': 0, 'completeSupportQuestInTime': 0, 'controlWardsPlaced': 1, 'damagePerMinute': 4807.943170600774, 'damageTakenOnTeamPercentage': 0.1355809638806824, 'dancedWithRiftHerald': 0, 'deathsByEnemyChamps': 1, 'dodgeSkillShotsSmallWindow': 16, 'doubleAces': 0, 'dragonTakedowns': 3, 'earliestBaron': 1300.054189973017, 'earliestDragonTakedown': 1014.5366145075806, 'effectiveHealAndShielding': 240, 'elderDragonKillsWithOpposingSoul': 0, 'elderDragonMultikills': 0, 'enemyChampionImmobilizations': 9, 'enemyJungleMonsterKills': 0, 'epicMonsterKillsNearEnemyJungler': 0, 'epicMonsterKillsWithin30SecondsOfSpawn': 0, 'epicMonsterSteals': 0, 'epicMonsterStolenWithoutSmite': 0, 'flawlessAces': 1, 'fullTeamTakedown': 0, 'gameLength': 1784.4491933601516, 'getTakedownsInAllLanesEarlyJungleAsLaner': 0, 'goldPerMinute': 386.86691559361157, 'hadAfkTeammate': 0, 'hadOpenNexus': 0, 'immobilizeAndKillWithAlly': 1, 'initialBuffCount': 0, 'initialCrabCount': 0, 'jungleCsBefore10Minutes': 0, 'junglerKillsEarlyJungle': 0, 'junglerTakedownsNearDamagedEpicMonster': 0, 'kTurretsDestroyedBeforePlatesFall': 0, 'kda': 10, 'killAfterHiddenWithAlly': 1, 'killParticipation': 0.5, 'killedChampTookFullTeamDamageSurvived': 9, 'killsNearEnemyTurret': 1, 'killsOnLanersEarlyJungleAsJungler': 0, 'killsOnOtherLanesEarlyJungleAsLaner': 0, 'killsOnRecentlyHealedByAramPack': 0, 'killsUnderOwnTurret': 0, 'killsWithHelpFromEpicMonster': 0, 'knockEnemyIntoTeamAndKill': 0, 'landSkillShotsEarlyGame': 3, 'laneMinionsFirst10Minutes': 66, 'legendaryCount': 0, 'lostAnInhibitor': 0, 'maxKillDeficit': 5, 'moreEnemyJungleThanOpponent': -110.00000005960464, 'multiKillOneSpell': 0, 'multiTurretRiftHeraldCount': 0, 'multikills': 0, 'multikillsAfterAggressiveFlash': 0, 'mythicItemUsed': 6671, 'outerTurretExecutesBefore10Minutes': 0, 'outnumberedKills': 0, 'outnumberedNexusKill': 0, 'perfectDragonSoulsTaken': 1, 'perfectGame': 0, 'pickKillWithAlly': 0, 'poroExplosions': 0, 'quickCleanse': 0, 'quickFirstTurret': 0, 'quickSoloKills': 0, 'riftHeraldTakedowns': 0, 'saveAllyFromDeath': 0, 'scuttleCrabKills': 0, 'skillshotsDodged': 16, 'skillshotsHit': 11, 'snowballsHit': 0, 'soloBaronKills': 0, 'soloKills': 0, 'soloTurretsLategame': 1, 'stealthWardsPlaced': 9, 'survivedSingleDigitHpCount': 0, 'survivedThreeImmobilizesInFight': 1, 'takedownOnFirstTurret': 0, 'takedowns': 10, 'takedownsAfterGainingLevelAdvantage': 0, 'takedownsBeforeJungleMinionSpawn': 0, 'takedownsFirst25Minutes': 6, 'takedownsInAlcove': 0, 'takedownsInEnemyFountain': 0, 'teamBaronKills': 2, 'teamDamagePercentage': 0.18042460311055059, 'teamElderDragonKills': 0, 'teamRiftHeraldKills': 0, 'teleportTakedowns': 3, 'threeWardsOneSweeperCount': 0, 'tookLargeDamageSurvived': 0, 'turretPlatesTaken': 1, 'turretTakedowns': 2, 'turretsTakenWithRiftHerald': 0, 'twentyMinionsIn3SecondsCount': 0, 'unseenRecalls': 0, 'visionScorePerMinute': 0.5454912882248438, 'wardTakedowns': 2, 'wardTakedownsBefore20M': 2, 'wardsGuarded': 0}, 'champExperience': 13456, 'champLevel': 15, 'championId': 222, 'championName': 'Jinx', 'championTransform': 0, 'consumablesPurchased': 3, 'damageDealtToBuildings': 2293, 'damageDealtToObjectives': 17291, 'damageDealtToTurrets': 2293, 'damageSelfMitigated': 6581, 'deaths': 1, 'detectorWardsPlaced': 1, 'doubleKills': 0, 'dragonKills': 0, 'firstBloodAssist': False, 'firstBloodKill': False, 'firstTowerAssist': False, 'firstTowerKill': False, 'gameEndedInEarlySurrender': False, 'gameEndedInSurrender': True, 'goldEarned': 11505, 'goldSpent': 9925, 'individualPosition': 'BOTTOM', 'inhibitorKills': 0, 'inhibitorTakedowns': 0, 'inhibitorsLost': 0, 'item0': 3006, 'item1': 6671, 'item2': 3046, 'item3': 1037, 'item4': 2055, 'item5': 1038, 'item6': 3340, 'itemsPurchased': 17, 'killingSprees': 1, 'kills': 4, 'lane': 'BOTTOM', 'largestCriticalStrike': 532, 'largestKillingSpree': 3, 'largestMultiKill': 1, 'longestTimeSpentLiving': 1594, 'magicDamageDealt': 1099, 'magicDamageDealtToChampions': 889, 'magicDamageTaken': 3500, 'neutralMinionsKilled': 18, 'nexusKills': 0, 'nexusLost': 0, 'nexusTakedowns': 0, 'objectivesStolen': 0, 'objectivesStolenAssists': 0, 'participantId': 4, 'pentaKills': 0, 'perks': {'statPerks': {'defense': 5002, 'flex': 5008, 'offense': 5005}, 'styles': [{'description': 'primaryStyle', 'selections': [{'perk': 8008, 'var1': 95, 'var2': 13, 'var3': 0}, {'perk': 8009, 'var1': 1608, 'var2': 0, 'var3': 0}, {'perk': 9104, 'var1': 19, 'var2': 30, 'var3': 0}, {'perk': 8014, 'var1': 246, 'var2': 0, 'var3': 0}], 'style': 8000}, {'description': 'subStyle', 'selections': [{'perk': 8139, 'var1': 649, 'var2': 0, 'var3': 0}, {'perk': 8135, 'var1': 2295, 'var2': 4, 'var3': 0}], 'style': 8100}]}, 'physicalDamageDealt': 134144, 'physicalDamageDealtToChampions': 13773, 'physicalDamageTaken': 9372, 'profileIcon': 5091, 'puuid': 's_SztG_QkFBh6U69JMj9KJknEz8I5k0wd9WtaGyHodTB6NtaI5tHFC53554Ysan2DK0tYdYJXcazeg', 'quadraKills': 0, 'riotIdName': '', 'riotIdTagline': '', 'role': 'CARRY', 'sightWardsBoughtInGame': 0, 'spell1Casts': 72, 'spell2Casts': 29, 'spell3Casts': 12, 'spell4Casts': 3, 'summoner1Casts': 6, 'summoner1Id': 7, 'summoner2Casts': 5, 'summoner2Id': 4, 'summonerId': '2eGyzxhLZBSx3hPo8hIHSbId64HkKWPbola_TFGDx5-PH6M', 'summonerLevel': 439, 'summonerName': 'Wγvern', 'teamEarlySurrendered': False, 'teamId': 100, 'teamPosition': 'BOTTOM', 'timeCCingOthers': 19, 'timePlayed': 1784, 'totalDamageDealt': 142992, 'totalDamageDealtToChampions': 14692, 'totalDamageShieldedOnTeammates': 0, 'totalDamageTaken': 13064, 'totalHeal': 2743, 'totalHealsOnTeammates': 240, 'totalMinionsKilled': 195, 'totalTimeCCDealt': 101, 'totalTimeSpentDead': 46, 'totalUnitsHealed': 2, 'tripleKills': 0, 'trueDamageDealt': 7748, 'trueDamageDealtToChampions': 30, 'trueDamageTaken': 192, 'turretKills': 2, 'turretTakedowns': 2, 'turretsLost': 3, 'unrealKills': 0, 'visionScore': 16, 'visionWardsBoughtInGame': 2, 'wardsKilled': 2, 'wardsPlaced': 10, 'win': True}, {'assists': 15, 'baronKills': 0, 'bountyLevel': 0, 'challenges': {'12AssistStreakCount': 1, 'abilityUses': 134, 'acesBefore15Minutes': 0, 'alliedJungleMonsterKills': 0, 'baronBuffGoldAdvantageOverThreshold': 1, 'baronTakedowns': 2, 'blastConeOppositeOpponentCount': 0, 'bountyGold': 0, 'buffsStolen': 0, 'completeSupportQuestInTime': 1, 'controlWardTimeCoverageInRiverOrEnemyHalf': 0.3097049475342664, 'controlWardsPlaced': 6, 'damagePerMinute': 745.5687588433246, 'damageTakenOnTeamPercentage': 0.11422583092624093, 'dancedWithRiftHerald': 0, 'deathsByEnemyChamps': 5, 'dodgeSkillShotsSmallWindow': 16, 'doubleAces': 0, 'dragonTakedowns': 2, 'earliestBaron': 1300.054189973017, 'earliestDragonTakedown': 1385.6688290854129, 'effectiveHealAndShielding': 786.401123046875, 'elderDragonKillsWithOpposingSoul': 0, 'elderDragonMultikills': 0, 'enemyChampionImmobilizations': 17, 'enemyJungleMonsterKills': 0, 'epicMonsterKillsNearEnemyJungler': 0, 'epicMonsterKillsWithin30SecondsOfSpawn': 0, 'epicMonsterSteals': 0, 'epicMonsterStolenWithoutSmite': 0, 'fasterSupportQuestCompletion': 1, 'flawlessAces': 1, 'fullTeamTakedown': 0, 'gameLength': 1784.4491933601516, 'getTakedownsInAllLanesEarlyJungleAsLaner': 0, 'goldPerMinute': 264.3561929741598, 'hadAfkTeammate': 0, 'hadOpenNexus': 0, 'highestWardKills': 1, 'immobilizeAndKillWithAlly': 5, 'initialBuffCount': 0, 'initialCrabCount': 0, 'jungleCsBefore10Minutes': 0, 'junglerKillsEarlyJungle': 0, 'junglerTakedownsNearDamagedEpicMonster': 1, 'kTurretsDestroyedBeforePlatesFall': 0, 'kda': 3.2, 'killAfterHiddenWithAlly': 2, 'killParticipation': 0.8, 'killedChampTookFullTeamDamageSurvived': 0, 'killsNearEnemyTurret': 0, 'killsOnLanersEarlyJungleAsJungler': 0, 'killsOnOtherLanesEarlyJungleAsLaner': 0, 'killsOnRecentlyHealedByAramPack': 0, 'killsUnderOwnTurret': 1, 'killsWithHelpFromEpicMonster': 0, 'knockEnemyIntoTeamAndKill': 0, 'landSkillShotsEarlyGame': 4, 'laneMinionsFirst10Minutes': 4, 'legendaryCount': 0, 'lostAnInhibitor': 0, 'maxKillDeficit': 5, 'moreEnemyJungleThanOpponent': -110.00000005960464, 'multiKillOneSpell': 0, 'multiTurretRiftHeraldCount': 0, 'multikills': 0, 'multikillsAfterAggressiveFlash': 0, 'outerTurretExecutesBefore10Minutes': 0, 'outnumberedKills': 0, 'outnumberedNexusKill': 0, 'perfectDragonSoulsTaken': 1, 'perfectGame': 0, 'pickKillWithAlly': 0, 'poroExplosions': 0, 'quickCleanse': 0, 'quickFirstTurret': 0, 'quickSoloKills': 0, 'riftHeraldTakedowns': 0, 'saveAllyFromDeath': 0, 'scuttleCrabKills': 0, 'skillshotsDodged': 11, 'skillshotsHit': 18, 'snowballsHit': 0, 'soloBaronKills': 0, 'soloKills': 0, 'soloTurretsLategame': 1, 'stealthWardsPlaced': 21, 'survivedSingleDigitHpCount': 0, 'survivedThreeImmobilizesInFight': 2, 'takedownOnFirstTurret': 0, 'takedowns': 16, 'takedownsAfterGainingLevelAdvantage': 0, 'takedownsBeforeJungleMinionSpawn': 0, 'takedownsFirst25Minutes': 10, 'takedownsInAlcove': 0, 'takedownsInEnemyFountain': 0, 'teamBaronKills': 2, 'teamDamagePercentage': 0.09816191466776404, 'teamElderDragonKills': 0, 'teamRiftHeraldKills': 0, 'threeWardsOneSweeperCount': 0, 'tookLargeDamageSurvived': 0, 'turretPlatesTaken': 1, 'turretTakedowns': 1, 'turretsTakenWithRiftHerald': 0, 'twentyMinionsIn3SecondsCount': 0, 'unseenRecalls': 0, 'visionScorePerMinute': 2.2240244298468683, 'wardTakedowns': 7, 'wardTakedownsBefore20M': 6, 'wardsGuarded': 0}, 'champExperience': 11193, 'champLevel': 13, 'championId': 25, 'championName': 'Morgana', 'championTransform': 0, 'consumablesPurchased': 11, 'damageDealtToBuildings': 820, 'damageDealtToObjectives': 7260, 'damageDealtToTurrets': 820, 'damageSelfMitigated': 7830, 'deaths': 5, 'detectorWardsPlaced': 6, 'doubleKills': 0, 'dragonKills': 0, 'firstBloodAssist': False, 'firstBloodKill': False, 'firstTowerAssist': False, 'firstTowerKill': False, 'gameEndedInEarlySurrender': False, 'gameEndedInSurrender': True, 'goldEarned': 7862, 'goldSpent': 6975, 'individualPosition': 'UTILITY', 'inhibitorKills': 0, 'inhibitorTakedowns': 0, 'inhibitorsLost': 0, 'item0': 1001, 'item1': 2055, 'item2': 3157, 'item3': 3853, 'item4': 6653, 'item5': 2003, 'item6': 3364, 'itemsPurchased': 21, 'killingSprees': 0, 'kills': 1, 'lane': 'BOTTOM', 'largestCriticalStrike': 0, 'largestKillingSpree': 0, 'largestMultiKill': 1, 'longestTimeSpentLiving': 623, 'magicDamageDealt': 19415, 'magicDamageDealtToChampions': 7504, 'magicDamageTaken': 5259, 'neutralMinionsKilled': 0, 'nexusKills': 0, 'nexusLost': 0, 'nexusTakedowns': 0, 'objectivesStolen': 0, 'objectivesStolenAssists': 0, 'participantId': 5, 'pentaKills': 0, 'perks': {'statPerks': {'defense': 5002, 'flex': 5008, 'offense': 5008}, 'styles': [{'description': 'primaryStyle', 'selections': [{'perk': 8229, 'var1': 1348, 'var2': 0, 'var3': 0}, {'perk': 8226, 'var1': 250, 'var2': 411, 'var3': 0}, {'perk': 8210, 'var1': 13, 'var2': 0, 'var3': 0}, {'perk': 8237, 'var1': 542, 'var2': 0, 'var3': 0}], 'style': 8200}, {'description': 'subStyle', 'selections': [{'perk': 8313, 'var1': 0, 'var2': 0, 'var3': 0}, {'perk': 8345, 'var1': 3, 'var2': 0, 'var3': 0}], 'style': 8300}]}, 'physicalDamageDealt': 2547, 'physicalDamageDealtToChampions': 361, 'physicalDamageTaken': 5606, 'profileIcon': 4764, 'puuid': 'D796gH8G1HoFl9E6dU1sjjRutVfOnty-qsPfuqCFttxEVcfUj0-Xjegeom1edMZUPkDP4pBquf0-_Q', 'quadraKills': 0, 'riotIdName': '', 'riotIdTagline': '', 'role': 'SUPPORT', 'sightWardsBoughtInGame': 0, 'spell1Casts': 45, 'spell2Casts': 54, 'spell3Casts': 29, 'spell4Casts': 6, 'summoner1Casts': 4, 'summoner1Id': 4, 'summoner2Casts': 6, 'summoner2Id': 3, 'summonerId': 'MDJC8sM3cZv5zLYNBY4P7OeGJEIj-n5_ytKV7BVsk0eAmyc', 'summonerLevel': 351, 'summonerName': 'vannylelitchi', 'teamEarlySurrendered': False, 'teamId': 100, 'teamPosition': 'UTILITY', 'timeCCingOthers': 37, 'timePlayed': 1784, 'totalDamageDealt': 22173, 'totalDamageDealtToChampions': 7993, 'totalDamageShieldedOnTeammates': 786, 'totalDamageTaken': 11006, 'totalHeal': 2297, 'totalHealsOnTeammates': 0, 'totalMinionsKilled': 15, 'totalTimeCCDealt': 68, 'totalTimeSpentDead': 111, 'totalUnitsHealed': 1, 'tripleKills': 0, 'trueDamageDealt': 210, 'trueDamageDealtToChampions': 127, 'trueDamageTaken': 140, 'turretKills': 1, 'turretTakedowns': 1, 'turretsLost': 3, 'unrealKills': 0, 'visionScore': 66, 'visionWardsBoughtInGame': 7, 'wardsKilled': 7, 'wardsPlaced': 27, 'win': True}, {'assists': 5, 'baronKills': 0, 'bountyLevel': 0, 'challenges': {'12AssistStreakCount': 0, 'abilityUses': 192, 'acesBefore15Minutes': 0, 'alliedJungleMonsterKills': 0, 'baronTakedowns': 0, 'blastConeOppositeOpponentCount': 0, 'bountyGold': 600, 'buffsStolen': 0, 'completeSupportQuestInTime': 0, 'controlWardTimeCoverageInRiverOrEnemyHalf': 0.2782404368594063, 'controlWardsPlaced': 3, 'damagePerMinute': 3698.672568436594, 'damageTakenOnTeamPercentage': 0.23731390900655808, 'dancedWithRiftHerald': 0, 'deathsByEnemyChamps': 5, 'dodgeSkillShotsSmallWindow': 16, 'doubleAces': 0, 'dragonTakedowns': 0, 'effectiveHealAndShielding': 0, 'elderDragonKillsWithOpposingSoul': 0, 'elderDragonMultikills': 0, 'enemyChampionImmobilizations': 17, 'enemyJungleMonsterKills': 0, 'epicMonsterKillsNearEnemyJungler': 0, 'epicMonsterKillsWithin30SecondsOfSpawn': 0, 'epicMonsterSteals': 0, 'epicMonsterStolenWithoutSmite': 0, 'firstTurretKilledTime': 781.8177539077498, 'flawlessAces': 0, 'fullTeamTakedown': 0, 'gameLength': 1784.4491933601516, 'getTakedownsInAllLanesEarlyJungleAsLaner': 0, 'goldPerMinute': 362.2526041048422, 'hadAfkTeammate': 0, 'hadOpenNexus': 0, 'immobilizeAndKillWithAlly': 6, 'initialBuffCount': 0, 'initialCrabCount': 0, 'jungleCsBefore10Minutes': 0, 'junglerKillsEarlyJungle': 0, 'junglerTakedownsNearDamagedEpicMonster': 0, 'kTurretsDestroyedBeforePlatesFall': 1, 'kda': 1.8, 'killAfterHiddenWithAlly': 1, 'killParticipation': 0.2727272727272727, 'killedChampTookFullTeamDamageSurvived': 1, 'killsNearEnemyTurret': 0, 'killsOnLanersEarlyJungleAsJungler': 0, 'killsOnOtherLanesEarlyJungleAsLaner': 0, 'killsOnRecentlyHealedByAramPack': 0, 'killsUnderOwnTurret': 1, 'killsWithHelpFromEpicMonster': 0, 'knockEnemyIntoTeamAndKill': 7, 'landSkillShotsEarlyGame': 0, 'laneMinionsFirst10Minutes': 40, 'legendaryCount': 0, 'lostAnInhibitor': 0, 'maxKillDeficit': 0, 'moreEnemyJungleThanOpponent': -106.00000005960464, 'multiKillOneSpell': 0, 'multiTurretRiftHeraldCount': 0, 'multikills': 0, 'multikillsAfterAggressiveFlash': 0, 'mythicItemUsed': 4633, 'outerTurretExecutesBefore10Minutes': 0, 'outnumberedKills': 0, 'outnumberedNexusKill': 0, 'perfectDragonSoulsTaken': 0, 'perfectGame': 0, 'pickKillWithAlly': 0, 'poroExplosions': 0, 'quickCleanse': 0, 'quickFirstTurret': 0, 'quickSoloKills': 0, 'riftHeraldTakedowns': 0, 'saveAllyFromDeath': 0, 'scuttleCrabKills': 0, 'skillshotsDodged': 18, 'skillshotsHit': 23, 'snowballsHit': 0, 'soloBaronKills': 0, 'soloKills': 2, 'soloTurretsLategame': 1, 'stealthWardsPlaced': 5, 'survivedSingleDigitHpCount': 0, 'survivedThreeImmobilizesInFight': 0, 'takedownOnFirstTurret': 1, 'takedowns': 9, 'takedownsAfterGainingLevelAdvantage': 0, 'takedownsBeforeJungleMinionSpawn': 0, 'takedownsFirst25Minutes': 6, 'takedownsInAlcove': 0, 'takedownsInEnemyFountain': 0, 'teamBaronKills': 0, 'teamDamagePercentage': 0.2533711673574397, 'teamElderDragonKills': 0, 'teamRiftHeraldKills': 1, 'teleportTakedowns': 1, 'threeWardsOneSweeperCount': 0, 'tookLargeDamageSurvived': 0, 'turretPlatesTaken': 4, 'turretTakedowns': 1, 'turretsTakenWithRiftHerald': 0, 'twentyMinionsIn3SecondsCount': 0, 'unseenRecalls': 0, 'visionScorePerMinute': 0.855832790209838, 'wardTakedowns': 0, 'wardTakedownsBefore20M': 0, 'wardsGuarded': 0}, 'champExperience': 13840, 'champLevel': 15, 'championId': 82, 'championName': 'Mordekaiser', 'championTransform': 0, 'consumablesPurchased': 6, 'damageDealtToBuildings': 1117, 'damageDealtToObjectives': 1547, 'damageDealtToTurrets': 1117, 'damageSelfMitigated': 21630, 'deaths': 5, 'detectorWardsPlaced': 3, 'doubleKills': 0, 'dragonKills': 0, 'firstBloodAssist': False, 'firstBloodKill': False, 'firstTowerAssist': False, 'firstTowerKill': True, 'gameEndedInEarlySurrender': False, 'gameEndedInSurrender': True, 'goldEarned': 10773, 'goldSpent': 10700, 'individualPosition': 'TOP', 'inhibitorKills': 0, 'inhibitorTakedowns': 0, 'inhibitorsLost': 0, 'item0': 4637, 'item1': 3116, 'item2': 2055, 'item3': 4633, 'item4': 3047, 'item5': 1056, 'item6': 3363, 'itemsPurchased': 23, 'killingSprees': 2, 'kills': 4, 'lane': 'TOP', 'largestCriticalStrike': 0, 'largestKillingSpree': 2, 'largestMultiKill': 1, 'longestTimeSpentLiving': 730, 'magicDamageDealt': 86690, 'magicDamageDealtToChampions': 13648, 'magicDamageTaken': 5409, 'neutralMinionsKilled': 0, 'nexusKills': 0, 'nexusLost': 0, 'nexusTakedowns': 0, 'objectivesStolen': 0, 'objectivesStolenAssists': 0, 'participantId': 6, 'pentaKills': 0, 'perks': {'statPerks': {'defense': 5002, 'flex': 5008, 'offense': 5005}, 'styles': [{'description': 'primaryStyle', 'selections': [{'perk': 8010, 'var1': 100, 'var2': 0, 'var3': 0}, {'perk': 9111, 'var1': 1194, 'var2': 180, 'var3': 0}, {'perk': 9104, 'var1': 20, 'var2': 20, 'var3': 0}, {'perk': 8299, 'var1': 625, 'var2': 0, 'var3': 0}], 'style': 8000}, {'description': 'subStyle', 'selections': [{'perk': 8444, 'var1': 1192, 'var2': 0, 'var3': 0}, {'perk': 8453, 'var1': 899, 'var2': 803, 'var3': 0}], 'style': 8400}]}, 'physicalDamageDealt': 18041, 'physicalDamageDealtToChampions': 1832, 'physicalDamageTaken': 19228, 'profileIcon': 588, 'puuid': 'b_M3Tg0ZWE-Jeifw6-fT_2JUOmYg92zEOM59Jjdj6S0PPJlbT8Gb69oJW8TEVE5YoH7wkDJhPCZKBg', 'quadraKills': 0, 'riotIdName': '', 'riotIdTagline': '', 'role': 'DUO', 'sightWardsBoughtInGame': 0, 'spell1Casts': 106, 'spell2Casts': 38, 'spell3Casts': 44, 'spell4Casts': 4, 'summoner1Casts': 4, 'summoner1Id': 4, 'summoner2Casts': 6, 'summoner2Id': 14, 'summonerId': 'EFz4rKTMxs-3TeLKb8coknczcu0AJsf4xAmtGkhl81DlDwo', 'summonerLevel': 72, 'summonerName': 'Jímmy Punchlíne', 'teamEarlySurrendered': False, 'teamId': 200, 'teamPosition': 'TOP', 'timeCCingOthers': 5, 'timePlayed': 1784, 'totalDamageDealt': 110001, 'totalDamageDealtToChampions': 17668, 'totalDamageShieldedOnTeammates': 0, 'totalDamageTaken': 26470, 'totalHeal': 5989, 'totalHealsOnTeammates': 0, 'totalMinionsKilled': 167, 'totalTimeCCDealt': 18, 'totalTimeSpentDead': 102, 'totalUnitsHealed': 1, 'tripleKills': 0, 'trueDamageDealt': 5269, 'trueDamageDealtToChampions': 2186, 'trueDamageTaken': 1833, 'turretKills': 1, 'turretTakedowns': 1, 'turretsLost': 5, 'unrealKills': 0, 'visionScore': 25, 'visionWardsBoughtInGame': 4, 'wardsKilled': 0, 'wardsPlaced': 12, 'win': False}, {'assists': 3, 'baronKills': 0, 'bountyLevel': 0, 'challenges': {'12AssistStreakCount': 0, 'abilityUses': 210, 'acesBefore15Minutes': 0, 'alliedJungleMonsterKills': 99.30000013113022, 'baronTakedowns': 0, 'blastConeOppositeOpponentCount': 0, 'bountyGold': 300, 'buffsStolen': 0, 'completeSupportQuestInTime': 0, 'controlWardsPlaced': 0, 'damagePerMinute': 5466.528221311606, 'damageTakenOnTeamPercentage': 0.2661520967581238, 'dancedWithRiftHerald': 0, 'deathsByEnemyChamps': 6, 'dodgeSkillShotsSmallWindow': 16, 'doubleAces': 0, 'dragonTakedowns': 0, 'earlyLaningPhaseGoldExpAdvantage': -0.1928592324256897, 'effectiveHealAndShielding': 0, 'elderDragonKillsWithOpposingSoul': 0, 'elderDragonMultikills': 0, 'enemyChampionImmobilizations': 14, 'enemyJungleMonsterKills': 4.000000029802322, 'epicMonsterKillsNearEnemyJungler': 0, 'epicMonsterKillsWithin30SecondsOfSpawn': 0, 'epicMonsterSteals': 0, 'epicMonsterStolenWithoutSmite': 0, 'firstTurretKilledTime': 781.8177539077498, 'flawlessAces': 0, 'fullTeamTakedown': 0, 'gameLength': 1784.4491933601516, 'goldPerMinute': 373.00559395397784, 'hadAfkTeammate': 0, 'hadOpenNexus': 0, 'immobilizeAndKillWithAlly': 5, 'initialBuffCount': 1, 'initialCrabCount': 1, 'jungleCsBefore10Minutes': 48.000000059604645, 'junglerKillsEarlyJungle': 0, 'junglerTakedownsNearDamagedEpicMonster': 0, 'kTurretsDestroyedBeforePlatesFall': 1, 'kda': 1.5, 'killAfterHiddenWithAlly': 1, 'killParticipation': 0.2727272727272727, 'killedChampTookFullTeamDamageSurvived': 0, 'killsNearEnemyTurret': 1, 'killsOnLanersEarlyJungleAsJungler': 1, 'killsOnRecentlyHealedByAramPack': 0, 'killsUnderOwnTurret': 1, 'killsWithHelpFromEpicMonster': 0, 'knockEnemyIntoTeamAndKill': 0, 'landSkillShotsEarlyGame': 1, 'laneMinionsFirst10Minutes': 8, 'laningPhaseGoldExpAdvantage': -0.012578070163726807, 'legendaryCount': 0, 'lostAnInhibitor': 0, 'maxCsAdvantageOnLaneOpponent': 10.000000059604645, 'maxKillDeficit': 0, 'maxLevelLeadLaneOpponent': 1, 'moreEnemyJungleThanOpponent': -58, 'multiKillOneSpell': 0, 'multiTurretRiftHeraldCount': 0, 'multikills': 0, 'multikillsAfterAggressiveFlash': 0, 'mythicItemUsed': 6631, 'outerTurretExecutesBefore10Minutes': 0, 'outnumberedKills': 0, 'outnumberedNexusKill': 0, 'perfectDragonSoulsTaken': 0, 'perfectGame': 0, 'pickKillWithAlly': 0, 'poroExplosions': 0, 'quickCleanse': 0, 'quickFirstTurret': 0, 'quickSoloKills': 0, 'riftHeraldTakedowns': 1, 'saveAllyFromDeath': 0, 'scuttleCrabKills': 2, 'skillshotsDodged': 21, 'skillshotsHit': 18, 'snowballsHit': 0, 'soloBaronKills': 0, 'soloKills': 1, 'soloTurretsLategame': 1, 'stealthWardsPlaced': 8, 'survivedSingleDigitHpCount': 0, 'survivedThreeImmobilizesInFight': 1, 'takedownOnFirstTurret': 0, 'takedowns': 9, 'takedownsAfterGainingLevelAdvantage': 0, 'takedownsBeforeJungleMinionSpawn': 1, 'takedownsFirst25Minutes': 8, 'takedownsInAlcove': 0, 'takedownsInEnemyFountain': 0, 'teamBaronKills': 0, 'teamDamagePercentage': 0.22059410609919944, 'teamElderDragonKills': 0, 'teamRiftHeraldKills': 1, 'threeWardsOneSweeperCount': 0, 'tookLargeDamageSurvived': 0, 'turretPlatesTaken': 4, 'turretTakedowns': 2, 'turretsTakenWithRiftHerald': 0, 'twentyMinionsIn3SecondsCount': 0, 'unseenRecalls': 0, 'visionScoreAdvantageLaneOpponent': 0.6359041929244995, 'visionScorePerMinute': 0.6139668720133962, 'wardTakedowns': 1, 'wardTakedownsBefore20M': 0, 'wardsGuarded': 1}, 'champExperience': 12258, 'champLevel': 14, 'championId': 56, 'championName': 'Nocturne', 'championTransform': 0, 'consumablesPurchased': 0, 'damageDealtToBuildings': 2556, 'damageDealtToObjectives': 14718, 'damageDealtToTurrets': 2556, 'damageSelfMitigated': 20090, 'deaths': 6, 'detectorWardsPlaced': 0, 'doubleKills': 0, 'dragonKills': 0, 'firstBloodAssist': True, 'firstBloodKill': False, 'firstTowerAssist': True, 'firstTowerKill': False, 'gameEndedInEarlySurrender': False, 'gameEndedInSurrender': True, 'goldEarned': 11093, 'goldSpent': 11100, 'individualPosition': 'JUNGLE', 'inhibitorKills': 0, 'inhibitorTakedowns': 0, 'inhibitorsLost': 0, 'item0': 6631, 'item1': 3814, 'item2': 3047, 'item3': 6333, 'item4': 0, 'item5': 0, 'item6': 3340, 'itemsPurchased': 19, 'killingSprees': 1, 'kills': 6, 'lane': 'JUNGLE', 'largestCriticalStrike': 0, 'largestKillingSpree': 5, 'largestMultiKill': 1, 'longestTimeSpentLiving': 776, 'magicDamageDealt': 12650, 'magicDamageDealtToChampions': 1505, 'magicDamageTaken': 7230, 'neutralMinionsKilled': 120, 'nexusKills': 0, 'nexusLost': 0, 'nexusTakedowns': 0, 'objectivesStolen': 0, 'objectivesStolenAssists': 0, 'participantId': 7, 'pentaKills': 0, 'perks': {'statPerks': {'defense': 5002, 'flex': 5008, 'offense': 5008}, 'styles': [{'description': 'primaryStyle', 'selections': [{'perk': 8010, 'var1': 307, 'var2': 0, 'var3': 0}, {'perk': 9111, 'var1': 284, 'var2': 180, 'var3': 0}, {'perk': 9103, 'var1': 23, 'var2': 30, 'var3': 0}, {'perk': 8017, 'var1': 346, 'var2': 0, 'var3': 0}], 'style': 8000}, {'description': 'subStyle', 'selections': [{'perk': 8143, 'var1': 337, 'var2': 0, 'var3': 0}, {'perk': 8106, 'var1': 4, 'var2': 0, 'var3': 0}], 'style': 8100}]}, 'physicalDamageDealt': 138130, 'physicalDamageDealtToChampions': 12921, 'physicalDamageTaken': 20740, 'profileIcon': 4532, 'puuid': 'D1O_DHxE6xzzXxl3slgGgShiicgHBLSibWH07sOsy4ZOHHPm4-l3Dqt6--uj4vERlMqNM8wCUXrR4A', 'quadraKills': 0, 'riotIdName': '', 'riotIdTagline': '', 'role': 'NONE', 'sightWardsBoughtInGame': 0, 'spell1Casts': 107, 'spell2Casts': 25, 'spell3Casts': 56, 'spell4Casts': 22, 'summoner1Casts': 5, 'summoner1Id': 4, 'summoner2Casts': 16, 'summoner2Id': 11, 'summonerId': 'w8gNO5vH3hgMCu7IqQqjF0pWNgozCiWESnWVlGGO0J4Y-m0Z', 'summonerLevel': 164, 'summonerName': 'Bjarkness', 'teamEarlySurrendered': False, 'teamId': 200, 'teamPosition': 'JUNGLE', 'timeCCingOthers': 190, 'timePlayed': 1784, 'totalDamageDealt': 162579, 'totalDamageDealtToChampions': 15382, 'totalDamageShieldedOnTeammates': 0, 'totalDamageTaken': 29687, 'totalHeal': 9573, 'totalHealsOnTeammates': 0, 'totalMinionsKilled': 44, 'totalTimeCCDealt': 606, 'totalTimeSpentDead': 156, 'totalUnitsHealed': 1, 'tripleKills': 0, 'trueDamageDealt': 11797, 'trueDamageDealtToChampions': 956, 'trueDamageTaken': 1716, 'turretKills': 1, 'turretTakedowns': 2, 'turretsLost': 5, 'unrealKills': 0, 'visionScore': 18, 'visionWardsBoughtInGame': 0, 'wardsKilled': 1, 'wardsPlaced': 8, 'win': False}, {'assists': 1, 'baronKills': 0, 'bountyLevel': 0, 'challenges': {'12AssistStreakCount': 0, 'abilityUses': 402, 'acesBefore15Minutes': 0, 'alliedJungleMonsterKills': 10.700000017881393, 'baronTakedowns': 0, 'blastConeOppositeOpponentCount': 0, 'bountyGold': 450, 'buffsStolen': 0, 'completeSupportQuestInTime': 0, 'controlWardsPlaced': 0, 'damagePerMinute': 5446.057093505937, 'damageTakenOnTeamPercentage': 0.18639218502313876, 'dancedWithRiftHerald': 0, 'deathsByEnemyChamps': 8, 'dodgeSkillShotsSmallWindow': 16, 'doubleAces': 0, 'dragonTakedowns': 0, 'earlyLaningPhaseGoldExpAdvantage': 0, 'effectiveHealAndShielding': 0, 'elderDragonKillsWithOpposingSoul': 0, 'elderDragonMultikills': 0, 'enemyChampionImmobilizations': 23, 'enemyJungleMonsterKills': 0, 'epicMonsterKillsNearEnemyJungler': 0, 'epicMonsterKillsWithin30SecondsOfSpawn': 0, 'epicMonsterSteals': 0, 'epicMonsterStolenWithoutSmite': 0, 'firstTurretKilledTime': 781.8177539077498, 'flawlessAces': 0, 'fullTeamTakedown': 0, 'gameLength': 1784.4491933601516, 'getTakedownsInAllLanesEarlyJungleAsLaner': 0, 'goldPerMinute': 395.0316592953166, 'hadAfkTeammate': 0, 'hadOpenNexus': 0, 'immobilizeAndKillWithAlly': 2, 'initialBuffCount': 0, 'initialCrabCount': 1, 'jungleCsBefore10Minutes': 4, 'junglerKillsEarlyJungle': 0, 'junglerTakedownsNearDamagedEpicMonster': 0, 'kTurretsDestroyedBeforePlatesFall': 0, 'kda': 0.7777777777777778, 'killAfterHiddenWithAlly': 0, 'killParticipation': 0.21212121212121213, 'killedChampTookFullTeamDamageSurvived': 0, 'killsNearEnemyTurret': 3, 'killsOnLanersEarlyJungleAsJungler': 0, 'killsOnOtherLanesEarlyJungleAsLaner': 0, 'killsOnRecentlyHealedByAramPack': 0, 'killsUnderOwnTurret': 0, 'killsWithHelpFromEpicMonster': 0, 'knockEnemyIntoTeamAndKill': 0, 'landSkillShotsEarlyGame': 9, 'laneMinionsFirst10Minutes': 70, 'laningPhaseGoldExpAdvantage': 0, 'legendaryCount': 0, 'lostAnInhibitor': 0, 'maxCsAdvantageOnLaneOpponent': 82, 'maxKillDeficit': 0, 'maxLevelLeadLaneOpponent': 2, 'moreEnemyJungleThanOpponent': -102.00000005960464, 'multiKillOneSpell': 0, 'multiTurretRiftHeraldCount': 0, 'multikills': 1, 'multikillsAfterAggressiveFlash': 1, 'mythicItemUsed': 6673, 'outerTurretExecutesBefore10Minutes': 1, 'outnumberedKills': 3, 'outnumberedNexusKill': 0, 'perfectDragonSoulsTaken': 0, 'perfectGame': 0, 'pickKillWithAlly': 0, 'poroExplosions': 0, 'quickCleanse': 0, 'quickFirstTurret': 0, 'quickSoloKills': 0, 'riftHeraldTakedowns': 0, 'saveAllyFromDeath': 0, 'scuttleCrabKills': 1, 'skillshotsDodged': 52, 'skillshotsHit': 45, 'snowballsHit': 0, 'soloBaronKills': 0, 'soloKills': 4, 'soloTurretsLategame': 1, 'stealthWardsPlaced': 9, 'survivedSingleDigitHpCount': 0, 'survivedThreeImmobilizesInFight': 0, 'takedownOnFirstTurret': 0, 'takedowns': 7, 'takedownsAfterGainingLevelAdvantage': 0, 'takedownsBeforeJungleMinionSpawn': 0, 'takedownsFirst25Minutes': 5, 'takedownsInAlcove': 0, 'takedownsInEnemyFountain': 0, 'teamBaronKills': 0, 'teamDamagePercentage': 0.25208592750446757, 'teamElderDragonKills': 0, 'teamRiftHeraldKills': 1, 'teleportTakedowns': 1, 'threeWardsOneSweeperCount': 0, 'tookLargeDamageSurvived': 0, 'turretPlatesTaken': 1, 'turretTakedowns': 1, 'turretsTakenWithRiftHerald': 0, 'twentyMinionsIn3SecondsCount': 0, 'unseenRecalls': 0, 'visionScoreAdvantageLaneOpponent': 1.2123098373413086, 'visionScorePerMinute': 0.5607457445626405, 'wardTakedowns': 0, 'wardTakedownsBefore20M': 0, 'wardsGuarded': 0}, 'champExperience': 14502, 'champLevel': 15, 'championId': 157, 'championName': 'Yasuo', 'championTransform': 0, 'consumablesPurchased': 4, 'damageDealtToBuildings': 1141, 'damageDealtToObjectives': 3746, 'damageDealtToTurrets': 1141, 'damageSelfMitigated': 23362, 'deaths': 9, 'detectorWardsPlaced': 0, 'doubleKills': 1, 'dragonKills': 0, 'firstBloodAssist': False, 'firstBloodKill': False, 'firstTowerAssist': False, 'firstTowerKill': False, 'gameEndedInEarlySurrender': False, 'gameEndedInSurrender': True, 'goldEarned': 11748, 'goldSpent': 11650, 'individualPosition': 'MIDDLE', 'inhibitorKills': 0, 'inhibitorTakedowns': 0, 'inhibitorsLost': 0, 'item0': 6673, 'item1': 3006, 'item2': 3091, 'item3': 3031, 'item4': 0, 'item5': 0, 'item6': 3340, 'itemsPurchased': 23, 'killingSprees': 3, 'kills': 6, 'lane': 'MIDDLE', 'largestCriticalStrike': 509, 'largestKillingSpree': 2, 'largestMultiKill': 2, 'longestTimeSpentLiving': 293, 'magicDamageDealt': 20566, 'magicDamageDealtToChampions': 3406, 'magicDamageTaken': 3886, 'neutralMinionsKilled': 17, 'nexusKills': 0, 'nexusLost': 0, 'nexusTakedowns': 0, 'objectivesStolen': 0, 'objectivesStolenAssists': 0, 'participantId': 8, 'pentaKills': 0, 'perks': {'statPerks': {'defense': 5003, 'flex': 5008, 'offense': 5005}, 'styles': [{'description': 'primaryStyle', 'selections': [{'perk': 8008, 'var1': 23, 'var2': 0, 'var3': 0}, {'perk': 9111, 'var1': 371, 'var2': 140, 'var3': 0}, {'perk': 9104, 'var1': 17, 'var2': 30, 'var3': 0}, {'perk': 8299, 'var1': 628, 'var2': 0, 'var3': 0}], 'style': 8000}, {'description': 'subStyle', 'selections': [{'perk': 8473, 'var1': 836, 'var2': 0, 'var3': 0}, {'perk': 8453, 'var1': 628, 'var2': 808, 'var3': 0}], 'style': 8400}]}, 'physicalDamageDealt': 134719, 'physicalDamageDealtToChampions': 12627, 'physicalDamageTaken': 14755, 'profileIcon': 4631, 'puuid': 'C4INYCCfrdBPA1AqjsOTF44wIYKpf30m1lCndiFNRjtcQ8afo55BPV7gdmku0uVIspeFXxGR_y4zeg', 'quadraKills': 0, 'riotIdName': '', 'riotIdTagline': '', 'role': 'SOLO', 'sightWardsBoughtInGame': 0, 'spell1Casts': 241, 'spell2Casts': 16, 'spell3Casts': 138, 'spell4Casts': 7, 'summoner1Casts': 7, 'summoner1Id': 14, 'summoner2Casts': 5, 'summoner2Id': 4, 'summonerId': 'n6g_EerYfMXu4ZRdmOaQHGhz_2aq0aftGzULcVFEzfmfsgo', 'summonerLevel': 533, 'summonerName': 'gambol9029', 'teamEarlySurrendered': False, 'teamId': 200, 'teamPosition': 'MIDDLE', 'timeCCingOthers': 21, 'timePlayed': 1784, 'totalDamageDealt': 161970, 'totalDamageDealtToChampions': 17578, 'totalDamageShieldedOnTeammates': 0, 'totalDamageTaken': 20790, 'totalHeal': 601, 'totalHealsOnTeammates': 0, 'totalMinionsKilled': 188, 'totalTimeCCDealt': 201, 'totalTimeSpentDead': 271, 'totalUnitsHealed': 1, 'tripleKills': 0, 'trueDamageDealt': 6684, 'trueDamageDealtToChampions': 1544, 'trueDamageTaken': 2148, 'turretKills': 1, 'turretTakedowns': 1, 'turretsLost': 5, 'unrealKills': 0, 'visionScore': 16, 'visionWardsBoughtInGame': 0, 'wardsKilled': 0, 'wardsPlaced': 9, 'win': False}, {'assists': 2, 'baronKills': 0, 'bountyLevel': 0, 'challenges': {'12AssistStreakCount': 0, 'abilityUses': 256, 'acesBefore15Minutes': 0, 'alliedJungleMonsterKills': 9.500000059604645, 'baronTakedowns': 0, 'blastConeOppositeOpponentCount': 0, 'bountyGold': 375, 'buffsStolen': 0, 'completeSupportQuestInTime': 0, 'controlWardTimeCoverageInRiverOrEnemyHalf': 0.2052013251915548, 'controlWardsPlaced': 4, 'damagePerMinute': 3984.921349377317, 'damageTakenOnTeamPercentage': 0.13489511350322703, 'dancedWithRiftHerald': 0, 'deathsByEnemyChamps': 6, 'dodgeSkillShotsSmallWindow': 16, 'doubleAces': 0, 'dragonTakedowns': 0, 'effectiveHealAndShielding': 659.9999389648438, 'elderDragonKillsWithOpposingSoul': 0, 'elderDragonMultikills': 0, 'enemyChampionImmobilizations': 0, 'enemyJungleMonsterKills': 1.5, 'epicMonsterKillsNearEnemyJungler': 0, 'epicMonsterKillsWithin30SecondsOfSpawn': 0, 'epicMonsterSteals': 0, 'epicMonsterStolenWithoutSmite': 0, 'firstTurretKilledTime': 781.8177539077498, 'flawlessAces': 0, 'fullTeamTakedown': 0, 'gameLength': 1784.4491933601516, 'getTakedownsInAllLanesEarlyJungleAsLaner': 0, 'goldPerMinute': 336.95586696294623, 'hadAfkTeammate': 0, 'hadOpenNexus': 0, 'immobilizeAndKillWithAlly': 0, 'initialBuffCount': 0, 'initialCrabCount': 0, 'jungleCsBefore10Minutes': 0, 'junglerKillsEarlyJungle': 0, 'junglerTakedownsNearDamagedEpicMonster': 0, 'kTurretsDestroyedBeforePlatesFall': 0, 'kda': 0.8333333333333334, 'killAfterHiddenWithAlly': 0, 'killParticipation': 0.15151515151515152, 'killedChampTookFullTeamDamageSurvived': 3, 'killsNearEnemyTurret': 1, 'killsOnLanersEarlyJungleAsJungler': 0, 'killsOnOtherLanesEarlyJungleAsLaner': 1, 'killsOnRecentlyHealedByAramPack': 0, 'killsUnderOwnTurret': 0, 'killsWithHelpFromEpicMonster': 0, 'knockEnemyIntoTeamAndKill': 0, 'landSkillShotsEarlyGame': 4, 'laneMinionsFirst10Minutes': 59, 'legendaryCount': 0, 'lostAnInhibitor': 0, 'maxKillDeficit': 0, 'moreEnemyJungleThanOpponent': -106.00000005960464, 'multiKillOneSpell': 0, 'multiTurretRiftHeraldCount': 0, 'multikills': 0, 'multikillsAfterAggressiveFlash': 0, 'mythicItemUsed': 6671, 'outerTurretExecutesBefore10Minutes': 0, 'outnumberedKills': 0, 'outnumberedNexusKill': 0, 'perfectDragonSoulsTaken': 0, 'perfectGame': 0, 'pickKillWithAlly': 0, 'poroExplosions': 0, 'quickCleanse': 0, 'quickFirstTurret': 0, 'quickSoloKills': 0, 'riftHeraldTakedowns': 0, 'saveAllyFromDeath': 0, 'scuttleCrabKills': 1, 'skillshotsDodged': 24, 'skillshotsHit': 22, 'snowballsHit': 0, 'soloBaronKills': 0, 'soloKills': 0, 'soloTurretsLategame': 1, 'stealthWardsPlaced': 7, 'survivedSingleDigitHpCount': 0, 'survivedThreeImmobilizesInFight': 0, 'takedownOnFirstTurret': 1, 'takedowns': 5, 'takedownsAfterGainingLevelAdvantage': 0, 'takedownsBeforeJungleMinionSpawn': 1, 'takedownsFirst25Minutes': 4, 'takedownsInAlcove': 0, 'takedownsInEnemyFountain': 0, 'teamBaronKills': 0, 'teamDamagePercentage': 0.19615057388152476, 'teamElderDragonKills': 0, 'teamRiftHeraldKills': 1, 'teleportTakedowns': 1, 'threeWardsOneSweeperCount': 0, 'tookLargeDamageSurvived': 0, 'turretPlatesTaken': 0, 'turretTakedowns': 1, 'turretsTakenWithRiftHerald': 0, 'twentyMinionsIn3SecondsCount': 0, 'unseenRecalls': 0, 'visionScorePerMinute': 0.5962952674517712, 'wardTakedowns': 2, 'wardTakedownsBefore20M': 1, 'wardsGuarded': 1}, 'champExperience': 10223, 'champLevel': 13, 'championId': 145, 'championName': 'Kaisa', 'championTransform': 0, 'consumablesPurchased': 6, 'damageDealtToBuildings': 1032, 'damageDealtToObjectives': 3329, 'damageDealtToTurrets': 1032, 'damageSelfMitigated': 7942, 'deaths': 6, 'detectorWardsPlaced': 4, 'doubleKills': 0, 'dragonKills': 0, 'firstBloodAssist': False, 'firstBloodKill': True, 'firstTowerAssist': False, 'firstTowerKill': False, 'gameEndedInEarlySurrender': False, 'gameEndedInSurrender': True, 'goldEarned': 10021, 'goldSpent': 9675, 'individualPosition': 'BOTTOM', 'inhibitorKills': 0, 'inhibitorTakedowns': 0, 'inhibitorsLost': 0, 'item0': 2424, 'item1': 6671, 'item2': 1037, 'item3': 3006, 'item4': 3042, 'item5': 3051, 'item6': 3340, 'itemsPurchased': 18, 'killingSprees': 0, 'kills': 3, 'lane': 'TOP', 'largestCriticalStrike': 421, 'largestKillingSpree': 0, 'largestMultiKill': 1, 'longestTimeSpentLiving': 707, 'magicDamageDealt': 16162, 'magicDamageDealtToChampions': 4832, 'magicDamageTaken': 3942, 'neutralMinionsKilled': 21, 'nexusKills': 0, 'nexusLost': 0, 'nexusTakedowns': 0, 'objectivesStolen': 0, 'objectivesStolenAssists': 0, 'participantId': 9, 'pentaKills': 0, 'perks': {'statPerks': {'defense': 5002, 'flex': 5008, 'offense': 5005}, 'styles': [{'description': 'primaryStyle', 'selections': [{'perk': 8008, 'var1': 53, 'var2': 4, 'var3': 0}, {'perk': 9101, 'var1': 50, 'var2': 176, 'var3': 0}, {'perk': 9104, 'var1': 24, 'var2': 0, 'var3': 0}, {'perk': 8014, 'var1': 284, 'var2': 0, 'var3': 0}], 'style': 8000}, {'description': 'subStyle', 'selections': [{'perk': 8313, 'var1': 0, 'var2': 0, 'var3': 0}, {'perk': 8345, 'var1': 3, 'var2': 0, 'var3': 0}], 'style': 8300}]}, 'physicalDamageDealt': 102352, 'physicalDamageDealtToChampions': 8846, 'physicalDamageTaken': 10054, 'profileIcon': 7, 'puuid': 'zJjCyHsL2OR1BFbnoSBEKybBa4PU2y-eBmP2TXCXtqOp-YH6bvyg_YvboFJZtefyyL6FwkY8WxWlJA', 'quadraKills': 0, 'riotIdName': '', 'riotIdTagline': '', 'role': 'DUO', 'sightWardsBoughtInGame': 0, 'spell1Casts': 98, 'spell2Casts': 54, 'spell3Casts': 96, 'spell4Casts': 8, 'summoner1Casts': 5, 'summoner1Id': 4, 'summoner2Casts': 6, 'summoner2Id': 7, 'summonerId': 'x4sLrs_WClZQaN8K-DlrBlzV-fEr4Mg_sosvPCTPnx_6Oi3-', 'summonerLevel': 92, 'summonerName': 'HentaiRenek', 'teamEarlySurrendered': False, 'teamId': 200, 'teamPosition': 'BOTTOM', 'timeCCingOthers': 0, 'timePlayed': 1784, 'totalDamageDealt': 118514, 'totalDamageDealtToChampions': 13678, 'totalDamageShieldedOnTeammates': 0, 'totalDamageTaken': 15046, 'totalHeal': 2705, 'totalHealsOnTeammates': 659, 'totalMinionsKilled': 167, 'totalTimeCCDealt': 3, 'totalTimeSpentDead': 161, 'totalUnitsHealed': 3, 'tripleKills': 0, 'trueDamageDealt': 0, 'trueDamageDealtToChampions': 0, 'trueDamageTaken': 1049, 'turretKills': 0, 'turretTakedowns': 1, 'turretsLost': 5, 'unrealKills': 0, 'visionScore': 17, 'visionWardsBoughtInGame': 4, 'wardsKilled': 2, 'wardsPlaced': 11, 'win': False}, {'assists': 8, 'baronKills': 0, 'bountyLevel': 0, 'challenges': {'12AssistStreakCount': 0, 'abilityUses': 85, 'acesBefore15Minutes': 0, 'alliedJungleMonsterKills': 0, 'baronTakedowns': 0, 'blastConeOppositeOpponentCount': 0, 'bountyGold': 0, 'buffsStolen': 0, 'completeSupportQuestInTime': 1, 'controlWardTimeCoverageInRiverOrEnemyHalf': 0.2188310852426729, 'controlWardsPlaced': 5, 'damagePerMinute': 617.6545503024869, 'damageTakenOnTeamPercentage': 0.17524669570895238, 'dancedWithRiftHerald': 0, 'deathsByEnemyChamps': 7, 'dodgeSkillShotsSmallWindow': 16, 'doubleAces': 0, 'dragonTakedowns': 0, 'effectiveHealAndShielding': 731.760986328125, 'elderDragonKillsWithOpposingSoul': 0, 'elderDragonMultikills': 0, 'enemyChampionImmobilizations': 33, 'enemyJungleMonsterKills': 2, 'epicMonsterKillsNearEnemyJungler': 0, 'epicMonsterKillsWithin30SecondsOfSpawn': 0, 'epicMonsterSteals': 0, 'epicMonsterStolenWithoutSmite': 0, 'firstTurretKilledTime': 781.8177539077498, 'flawlessAces': 0, 'fullTeamTakedown': 0, 'gameLength': 1784.4491933601516, 'getTakedownsInAllLanesEarlyJungleAsLaner': 0, 'goldPerMinute': 223.19549745244038, 'hadAfkTeammate': 0, 'hadOpenNexus': 0, 'highestWardKills': 1, 'immobilizeAndKillWithAlly': 5, 'initialBuffCount': 0, 'initialCrabCount': 0, 'jungleCsBefore10Minutes': 0, 'junglerKillsEarlyJungle': 0, 'junglerTakedownsNearDamagedEpicMonster': 0, 'kTurretsDestroyedBeforePlatesFall': 0, 'kda': 1.2857142857142858, 'killAfterHiddenWithAlly': 0, 'killParticipation': 0.2727272727272727, 'killedChampTookFullTeamDamageSurvived': 0, 'killsNearEnemyTurret': 0, 'killsOnLanersEarlyJungleAsJungler': 0, 'killsOnOtherLanesEarlyJungleAsLaner': 0, 'killsOnRecentlyHealedByAramPack': 0, 'killsUnderOwnTurret': 0, 'killsWithHelpFromEpicMonster': 0, 'knockEnemyIntoTeamAndKill': 5, 'landSkillShotsEarlyGame': 11, 'laneMinionsFirst10Minutes': 17, 'legendaryCount': 0, 'lostAnInhibitor': 0, 'maxKillDeficit': 0, 'moreEnemyJungleThanOpponent': -106.00000005960464, 'multiKillOneSpell': 0, 'multiTurretRiftHeraldCount': 0, 'multikills': 0, 'multikillsAfterAggressiveFlash': 0, 'mythicItemUsed': 2065, 'outerTurretExecutesBefore10Minutes': 0, 'outnumberedKills': 0, 'outnumberedNexusKill': 0, 'perfectDragonSoulsTaken': 0, 'perfectGame': 0, 'pickKillWithAlly': 0, 'poroExplosions': 0, 'quickCleanse': 0, 'quickFirstTurret': 0, 'quickSoloKills': 0, 'riftHeraldTakedowns': 0, 'saveAllyFromDeath': 1, 'scuttleCrabKills': 0, 'skillshotsDodged': 42, 'skillshotsHit': 38, 'snowballsHit': 0, 'soloBaronKills': 0, 'soloKills': 0, 'soloTurretsLategame': 1, 'stealthWardsPlaced': 17, 'survivedSingleDigitHpCount': 0, 'survivedThreeImmobilizesInFight': 0, 'takedownOnFirstTurret': 1, 'takedowns': 9, 'takedownsAfterGainingLevelAdvantage': 0, 'takedownsBeforeJungleMinionSpawn': 1, 'takedownsFirst25Minutes': 6, 'takedownsInAlcove': 0, 'takedownsInEnemyFountain': 0, 'teamBaronKills': 0, 'teamDamagePercentage': 0.07779822515736858, 'teamElderDragonKills': 0, 'teamRiftHeraldKills': 1, 'teleportTakedowns': 1, 'threeWardsOneSweeperCount': 0, 'tookLargeDamageSurvived': 0, 'turretPlatesTaken': 0, 'turretTakedowns': 1, 'turretsTakenWithRiftHerald': 0, 'twentyMinionsIn3SecondsCount': 0, 'unseenRecalls': 0, 'visionScorePerMinute': 1.6467883985863048, 'wardTakedowns': 7, 'wardTakedownsBefore20M': 5, 'wardsGuarded': 0}, 'champExperience': 8270, 'champLevel': 11, 'championId': 53, 'championName': 'Blitzcrank', 'championTransform': 0, 'consumablesPurchased': 13, 'damageDealtToBuildings': 1308, 'damageDealtToObjectives': 1308, 'damageDealtToTurrets': 1308, 'damageSelfMitigated': 15636, 'deaths': 7, 'detectorWardsPlaced': 5, 'doubleKills': 0, 'dragonKills': 0, 'firstBloodAssist': True, 'firstBloodKill': False, 'firstTowerAssist': False, 'firstTowerKill': False, 'gameEndedInEarlySurrender': False, 'gameEndedInSurrender': True, 'goldEarned': 6638, 'goldSpent': 6475, 'individualPosition': 'UTILITY', 'inhibitorKills': 0, 'inhibitorTakedowns': 0, 'inhibitorsLost': 0, 'item0': 2003, 'item1': 2065, 'item2': 3857, 'item3': 3067, 'item4': 3047, 'item5': 3024, 'item6': 3364, 'itemsPurchased': 27, 'killingSprees': 0, 'kills': 1, 'lane': 'BOTTOM', 'largestCriticalStrike': 0, 'largestKillingSpree': 0, 'largestMultiKill': 1, 'longestTimeSpentLiving': 706, 'magicDamageDealt': 7686, 'magicDamageDealtToChampions': 3770, 'magicDamageTaken': 6553, 'neutralMinionsKilled': 2, 'nexusKills': 0, 'nexusLost': 0, 'nexusTakedowns': 0, 'objectivesStolen': 0, 'objectivesStolenAssists': 0, 'participantId': 10, 'pentaKills': 0, 'perks': {'statPerks': {'defense': 5002, 'flex': 5003, 'offense': 5007}, 'styles': [{'description': 'primaryStyle', 'selections': [{'perk': 8439, 'var1': 230, 'var2': 1217, 'var3': 0}, {'perk': 8446, 'var1': 407, 'var2': 0, 'var3': 0}, {'perk': 8473, 'var1': 839, 'var2': 0, 'var3': 0}, {'perk': 8242, 'var1': 63, 'var2': 0, 'var3': 0}], 'style': 8400}, {'description': 'subStyle', 'selections': [{'perk': 8306, 'var1': 0, 'var2': 0, 'var3': 0}, {'perk': 8345, 'var1': 3, 'var2': 0, 'var3': 0}], 'style': 8300}]}, 'physicalDamageDealt': 6495, 'physicalDamageDealtToChampions': 1654, 'physicalDamageTaken': 11560, 'profileIcon': 3898, 'puuid': 'JaY3Ztpy96QzJqmT1AfREK82NF3lBK3rbuuf3wViaQX_el2WgRxnH_KKWtTYNJlC87lq6wwBXvL1tA', 'quadraKills': 0, 'riotIdName': '', 'riotIdTagline': '', 'role': 'SOLO', 'sightWardsBoughtInGame': 0, 'spell1Casts': 17, 'spell2Casts': 36, 'spell3Casts': 21, 'spell4Casts': 11, 'summoner1Casts': 6, 'summoner1Id': 7, 'summoner2Casts': 4, 'summoner2Id': 4, 'summonerId': '6BYVFZrkCGjK2QELxVkEIxtTIsfxgptFmAJ4dMQ-VkDsqs0', 'summonerLevel': 68, 'summonerName': 'KreeZeY', 'teamEarlySurrendered': False, 'teamId': 200, 'teamPosition': 'UTILITY', 'timeCCingOthers': 24, 'timePlayed': 1784, 'totalDamageDealt': 18369, 'totalDamageDealtToChampions': 5425, 'totalDamageShieldedOnTeammates': 0, 'totalDamageTaken': 19547, 'totalHeal': 2206, 'totalHealsOnTeammates': 731, 'totalMinionsKilled': 31, 'totalTimeCCDealt': 94, 'totalTimeSpentDead': 172, 'totalUnitsHealed': 5, 'tripleKills': 0, 'trueDamageDealt': 4187, 'trueDamageDealtToChampions': 0, 'trueDamageTaken': 1433, 'turretKills': 0, 'turretTakedowns': 1, 'turretsLost': 5, 'unrealKills': 0, 'visionScore': 48, 'visionWardsBoughtInGame': 5, 'wardsKilled': 7, 'wardsPlaced': 22, 'win': False}], 'platformId': 'EUW1', 'queueId': 420, 'teams': [{'bans': [{'championId': 238, 'pickTurn': 1}, {'championId': 120, 'pickTurn': 2}, {'championId': 39, 'pickTurn': 3}, {'championId': 101, 'pickTurn': 4}, {'championId': 35, 'pickTurn': 5}], 'objectives': {'baron': {'first': True, 'kills': 2}, 'champion': {'first': False, 'kills': 33}, 'dragon': {'first': True, 'kills': 4}, 'inhibitor': {'first': False, 'kills': 0}, 'riftHerald': {'first': False, 'kills': 0}, 'tower': {'first': False, 'kills': 5}}, 'teamId': 100, 'win': True}, {'bans': [{'championId': 99, 'pickTurn': 6}, {'championId': 84, 'pickTurn': 7}, {'championId': 420, 'pickTurn': 8}, {'championId': 90, 'pickTurn': 9}, {'championId': 23, 'pickTurn': 10}], 'objectives': {'baron': {'first': False, 'kills': 0}, 'champion': {'first': True, 'kills': 20}, 'dragon': {'first': False, 'kills': 0}, 'inhibitor': {'first': False, 'kills': 0}, 'riftHerald': {'first': True, 'kills': 1}, 'tower': {'first': True, 'kills': 3}}, 'teamId': 200, 'win': False}], 'tournamentCode': ''}}\n"
     ]
    }
   ],
   "source": [
    "Game = Match(API,'EUW1_5776634829')\n",
    "print(Game.match_data)"
   ]
  }
 ],
 "metadata": {
  "kernelspec": {
   "display_name": "env",
   "language": "python",
   "name": "python3"
  },
  "language_info": {
   "codemirror_mode": {
    "name": "ipython",
    "version": 3
   },
   "file_extension": ".py",
   "mimetype": "text/x-python",
   "name": "python",
   "nbconvert_exporter": "python",
   "pygments_lexer": "ipython3",
   "version": "3.11.2"
  }
 },
 "nbformat": 4,
 "nbformat_minor": 2
}
